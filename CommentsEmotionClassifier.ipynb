{
  "nbformat": 4,
  "nbformat_minor": 0,
  "metadata": {
    "colab": {
      "provenance": [],
      "collapsed_sections": [],
      "authorship_tag": "ABX9TyMrECFwpdknsJJSCKeB8dTv",
      "include_colab_link": true
    },
    "kernelspec": {
      "name": "python3",
      "display_name": "Python 3"
    },
    "language_info": {
      "name": "python"
    }
  },
  "cells": [
    {
      "cell_type": "markdown",
      "metadata": {
        "id": "view-in-github",
        "colab_type": "text"
      },
      "source": [
        "<a href=\"https://colab.research.google.com/github/Darshan-Thakar/NLP_and_ML_projects/blob/main/CommentsEmotionClassifier.ipynb\" target=\"_parent\"><img src=\"https://colab.research.google.com/assets/colab-badge.svg\" alt=\"Open In Colab\"/></a>"
      ]
    },
    {
      "cell_type": "code",
      "execution_count": null,
      "metadata": {
        "id": "m3UYYuj0daml"
      },
      "outputs": [],
      "source": [
        "#Importing the required modules\n",
        "\n",
        "import pandas as pd;\n",
        "import numpy as np ;\n",
        "import seaborn as sns\n",
        "\n",
        "from sklearn.feature_extraction.text import CountVectorizer;\n",
        "from sklearn.feature_extraction.text import TfidfVectorizer;\n",
        "from sklearn.ensemble import RandomForestClassifier\n",
        "from sklearn.naive_bayes import MultinomialNB;\n",
        "from sklearn.svm import SVC;\n",
        "from sklearn.neighbors import KNeighborsClassifier\n",
        "from sklearn.tree import DecisionTreeClassifier;\n",
        "from sklearn.model_selection import train_test_split;\n",
        "from sklearn.metrics import confusion_matrix ;\n",
        "from sklearn.metrics import classification_report\n",
        "import spacy\n",
        "from sklearn.ensemble import BaggingClassifier;\n",
        "from sklearn.pipeline import Pipeline"
      ]
    },
    {
      "cell_type": "markdown",
      "source": [
        "**In this notebook we will try out different classification algorithms to classify comments into their respective emotions . In this commit I will try few algos and text representation techniques such as bag of words , bag of n_grams and TF-Idf. This text representation techniques do not capture the relationship between the words. In the next commit I will use different word embedding techniques as well as BERT for text representation**"
      ],
      "metadata": {
        "id": "PNOINmoJgZog"
      }
    },
    {
      "cell_type": "code",
      "source": [
        "# Let's load the data \n",
        "df=pd.read_csv(\"https://raw.githubusercontent.com/codebasics/nlp-tutorials/main/12_tf_idf/Emotion_classify_Data.csv\");\n",
        "\n",
        "# I dont want to download the dataset from kaggle so i will load it using raw github csv uploaded on codebasics github page\n",
        "\n",
        "\n",
        "df.head(5)"
      ],
      "metadata": {
        "colab": {
          "base_uri": "https://localhost:8080/",
          "height": 206
        },
        "id": "lrGblwQ2eumL",
        "outputId": "b053843f-177e-4a40-a6b9-a6ef13ec186b"
      },
      "execution_count": null,
      "outputs": [
        {
          "output_type": "execute_result",
          "data": {
            "text/plain": [
              "                                             Comment Emotion\n",
              "0  i seriously hate one subject to death but now ...    fear\n",
              "1                 im so full of life i feel appalled   anger\n",
              "2  i sit here to write i start to dig out my feel...    fear\n",
              "3  ive been really angry with r and i feel like a...     joy\n",
              "4  i feel suspicious if there is no one outside l...    fear"
            ],
            "text/html": [
              "\n",
              "  <div id=\"df-0bd71304-1033-4560-b3ee-61fd7d428803\">\n",
              "    <div class=\"colab-df-container\">\n",
              "      <div>\n",
              "<style scoped>\n",
              "    .dataframe tbody tr th:only-of-type {\n",
              "        vertical-align: middle;\n",
              "    }\n",
              "\n",
              "    .dataframe tbody tr th {\n",
              "        vertical-align: top;\n",
              "    }\n",
              "\n",
              "    .dataframe thead th {\n",
              "        text-align: right;\n",
              "    }\n",
              "</style>\n",
              "<table border=\"1\" class=\"dataframe\">\n",
              "  <thead>\n",
              "    <tr style=\"text-align: right;\">\n",
              "      <th></th>\n",
              "      <th>Comment</th>\n",
              "      <th>Emotion</th>\n",
              "    </tr>\n",
              "  </thead>\n",
              "  <tbody>\n",
              "    <tr>\n",
              "      <th>0</th>\n",
              "      <td>i seriously hate one subject to death but now ...</td>\n",
              "      <td>fear</td>\n",
              "    </tr>\n",
              "    <tr>\n",
              "      <th>1</th>\n",
              "      <td>im so full of life i feel appalled</td>\n",
              "      <td>anger</td>\n",
              "    </tr>\n",
              "    <tr>\n",
              "      <th>2</th>\n",
              "      <td>i sit here to write i start to dig out my feel...</td>\n",
              "      <td>fear</td>\n",
              "    </tr>\n",
              "    <tr>\n",
              "      <th>3</th>\n",
              "      <td>ive been really angry with r and i feel like a...</td>\n",
              "      <td>joy</td>\n",
              "    </tr>\n",
              "    <tr>\n",
              "      <th>4</th>\n",
              "      <td>i feel suspicious if there is no one outside l...</td>\n",
              "      <td>fear</td>\n",
              "    </tr>\n",
              "  </tbody>\n",
              "</table>\n",
              "</div>\n",
              "      <button class=\"colab-df-convert\" onclick=\"convertToInteractive('df-0bd71304-1033-4560-b3ee-61fd7d428803')\"\n",
              "              title=\"Convert this dataframe to an interactive table.\"\n",
              "              style=\"display:none;\">\n",
              "        \n",
              "  <svg xmlns=\"http://www.w3.org/2000/svg\" height=\"24px\"viewBox=\"0 0 24 24\"\n",
              "       width=\"24px\">\n",
              "    <path d=\"M0 0h24v24H0V0z\" fill=\"none\"/>\n",
              "    <path d=\"M18.56 5.44l.94 2.06.94-2.06 2.06-.94-2.06-.94-.94-2.06-.94 2.06-2.06.94zm-11 1L8.5 8.5l.94-2.06 2.06-.94-2.06-.94L8.5 2.5l-.94 2.06-2.06.94zm10 10l.94 2.06.94-2.06 2.06-.94-2.06-.94-.94-2.06-.94 2.06-2.06.94z\"/><path d=\"M17.41 7.96l-1.37-1.37c-.4-.4-.92-.59-1.43-.59-.52 0-1.04.2-1.43.59L10.3 9.45l-7.72 7.72c-.78.78-.78 2.05 0 2.83L4 21.41c.39.39.9.59 1.41.59.51 0 1.02-.2 1.41-.59l7.78-7.78 2.81-2.81c.8-.78.8-2.07 0-2.86zM5.41 20L4 18.59l7.72-7.72 1.47 1.35L5.41 20z\"/>\n",
              "  </svg>\n",
              "      </button>\n",
              "      \n",
              "  <style>\n",
              "    .colab-df-container {\n",
              "      display:flex;\n",
              "      flex-wrap:wrap;\n",
              "      gap: 12px;\n",
              "    }\n",
              "\n",
              "    .colab-df-convert {\n",
              "      background-color: #E8F0FE;\n",
              "      border: none;\n",
              "      border-radius: 50%;\n",
              "      cursor: pointer;\n",
              "      display: none;\n",
              "      fill: #1967D2;\n",
              "      height: 32px;\n",
              "      padding: 0 0 0 0;\n",
              "      width: 32px;\n",
              "    }\n",
              "\n",
              "    .colab-df-convert:hover {\n",
              "      background-color: #E2EBFA;\n",
              "      box-shadow: 0px 1px 2px rgba(60, 64, 67, 0.3), 0px 1px 3px 1px rgba(60, 64, 67, 0.15);\n",
              "      fill: #174EA6;\n",
              "    }\n",
              "\n",
              "    [theme=dark] .colab-df-convert {\n",
              "      background-color: #3B4455;\n",
              "      fill: #D2E3FC;\n",
              "    }\n",
              "\n",
              "    [theme=dark] .colab-df-convert:hover {\n",
              "      background-color: #434B5C;\n",
              "      box-shadow: 0px 1px 3px 1px rgba(0, 0, 0, 0.15);\n",
              "      filter: drop-shadow(0px 1px 2px rgba(0, 0, 0, 0.3));\n",
              "      fill: #FFFFFF;\n",
              "    }\n",
              "  </style>\n",
              "\n",
              "      <script>\n",
              "        const buttonEl =\n",
              "          document.querySelector('#df-0bd71304-1033-4560-b3ee-61fd7d428803 button.colab-df-convert');\n",
              "        buttonEl.style.display =\n",
              "          google.colab.kernel.accessAllowed ? 'block' : 'none';\n",
              "\n",
              "        async function convertToInteractive(key) {\n",
              "          const element = document.querySelector('#df-0bd71304-1033-4560-b3ee-61fd7d428803');\n",
              "          const dataTable =\n",
              "            await google.colab.kernel.invokeFunction('convertToInteractive',\n",
              "                                                     [key], {});\n",
              "          if (!dataTable) return;\n",
              "\n",
              "          const docLinkHtml = 'Like what you see? Visit the ' +\n",
              "            '<a target=\"_blank\" href=https://colab.research.google.com/notebooks/data_table.ipynb>data table notebook</a>'\n",
              "            + ' to learn more about interactive tables.';\n",
              "          element.innerHTML = '';\n",
              "          dataTable['output_type'] = 'display_data';\n",
              "          await google.colab.output.renderOutput(dataTable, element);\n",
              "          const docLink = document.createElement('div');\n",
              "          docLink.innerHTML = docLinkHtml;\n",
              "          element.appendChild(docLink);\n",
              "        }\n",
              "      </script>\n",
              "    </div>\n",
              "  </div>\n",
              "  "
            ]
          },
          "metadata": {},
          "execution_count": 74
        }
      ]
    },
    {
      "cell_type": "code",
      "source": [
        "df.shape"
      ],
      "metadata": {
        "colab": {
          "base_uri": "https://localhost:8080/"
        },
        "id": "e9T1cR8mh2tA",
        "outputId": "6298d9c2-dcb8-48d4-a95f-42ca42fbf4d2"
      },
      "execution_count": null,
      "outputs": [
        {
          "output_type": "execute_result",
          "data": {
            "text/plain": [
              "(5937, 2)"
            ]
          },
          "metadata": {},
          "execution_count": 75
        }
      ]
    },
    {
      "cell_type": "code",
      "source": [
        "# The data set has 5937 rows and 2 columns\n",
        "\n",
        "# let's check if there is any imbalance in the dataset\n",
        "\n",
        "print(df.Emotion.value_counts());"
      ],
      "metadata": {
        "colab": {
          "base_uri": "https://localhost:8080/"
        },
        "id": "qylqjd5GiAvp",
        "outputId": "48bdb4d9-18d9-4d86-9c8b-e1f81529371e"
      },
      "execution_count": null,
      "outputs": [
        {
          "output_type": "stream",
          "name": "stdout",
          "text": [
            "anger    2000\n",
            "joy      2000\n",
            "fear     1937\n",
            "Name: Emotion, dtype: int64\n"
          ]
        }
      ]
    },
    {
      "cell_type": "markdown",
      "source": [
        "**The dataset is balanced so we don't need to apply the techniques to handle imbalanced. So, let's move on converting the labels of the dataset to numerical values**"
      ],
      "metadata": {
        "id": "ov8KCXU3ilra"
      }
    },
    {
      "cell_type": "code",
      "source": [
        "df['Emotion']=df['Emotion'].map({\n",
        "    'anger':0,\n",
        "    'joy':1,\n",
        "    'fear':2\n",
        "    \n",
        "})\n",
        "\n",
        "df.head(5)"
      ],
      "metadata": {
        "colab": {
          "base_uri": "https://localhost:8080/",
          "height": 206
        },
        "id": "UiEXhDPriSHw",
        "outputId": "5b0c8fbc-71f5-4f1e-f69d-657adf9779ab"
      },
      "execution_count": null,
      "outputs": [
        {
          "output_type": "execute_result",
          "data": {
            "text/plain": [
              "                                             Comment  Emotion\n",
              "0  i seriously hate one subject to death but now ...        2\n",
              "1                 im so full of life i feel appalled        0\n",
              "2  i sit here to write i start to dig out my feel...        2\n",
              "3  ive been really angry with r and i feel like a...        1\n",
              "4  i feel suspicious if there is no one outside l...        2"
            ],
            "text/html": [
              "\n",
              "  <div id=\"df-714c9bcb-3a35-40b7-9821-b15cb30d5c45\">\n",
              "    <div class=\"colab-df-container\">\n",
              "      <div>\n",
              "<style scoped>\n",
              "    .dataframe tbody tr th:only-of-type {\n",
              "        vertical-align: middle;\n",
              "    }\n",
              "\n",
              "    .dataframe tbody tr th {\n",
              "        vertical-align: top;\n",
              "    }\n",
              "\n",
              "    .dataframe thead th {\n",
              "        text-align: right;\n",
              "    }\n",
              "</style>\n",
              "<table border=\"1\" class=\"dataframe\">\n",
              "  <thead>\n",
              "    <tr style=\"text-align: right;\">\n",
              "      <th></th>\n",
              "      <th>Comment</th>\n",
              "      <th>Emotion</th>\n",
              "    </tr>\n",
              "  </thead>\n",
              "  <tbody>\n",
              "    <tr>\n",
              "      <th>0</th>\n",
              "      <td>i seriously hate one subject to death but now ...</td>\n",
              "      <td>2</td>\n",
              "    </tr>\n",
              "    <tr>\n",
              "      <th>1</th>\n",
              "      <td>im so full of life i feel appalled</td>\n",
              "      <td>0</td>\n",
              "    </tr>\n",
              "    <tr>\n",
              "      <th>2</th>\n",
              "      <td>i sit here to write i start to dig out my feel...</td>\n",
              "      <td>2</td>\n",
              "    </tr>\n",
              "    <tr>\n",
              "      <th>3</th>\n",
              "      <td>ive been really angry with r and i feel like a...</td>\n",
              "      <td>1</td>\n",
              "    </tr>\n",
              "    <tr>\n",
              "      <th>4</th>\n",
              "      <td>i feel suspicious if there is no one outside l...</td>\n",
              "      <td>2</td>\n",
              "    </tr>\n",
              "  </tbody>\n",
              "</table>\n",
              "</div>\n",
              "      <button class=\"colab-df-convert\" onclick=\"convertToInteractive('df-714c9bcb-3a35-40b7-9821-b15cb30d5c45')\"\n",
              "              title=\"Convert this dataframe to an interactive table.\"\n",
              "              style=\"display:none;\">\n",
              "        \n",
              "  <svg xmlns=\"http://www.w3.org/2000/svg\" height=\"24px\"viewBox=\"0 0 24 24\"\n",
              "       width=\"24px\">\n",
              "    <path d=\"M0 0h24v24H0V0z\" fill=\"none\"/>\n",
              "    <path d=\"M18.56 5.44l.94 2.06.94-2.06 2.06-.94-2.06-.94-.94-2.06-.94 2.06-2.06.94zm-11 1L8.5 8.5l.94-2.06 2.06-.94-2.06-.94L8.5 2.5l-.94 2.06-2.06.94zm10 10l.94 2.06.94-2.06 2.06-.94-2.06-.94-.94-2.06-.94 2.06-2.06.94z\"/><path d=\"M17.41 7.96l-1.37-1.37c-.4-.4-.92-.59-1.43-.59-.52 0-1.04.2-1.43.59L10.3 9.45l-7.72 7.72c-.78.78-.78 2.05 0 2.83L4 21.41c.39.39.9.59 1.41.59.51 0 1.02-.2 1.41-.59l7.78-7.78 2.81-2.81c.8-.78.8-2.07 0-2.86zM5.41 20L4 18.59l7.72-7.72 1.47 1.35L5.41 20z\"/>\n",
              "  </svg>\n",
              "      </button>\n",
              "      \n",
              "  <style>\n",
              "    .colab-df-container {\n",
              "      display:flex;\n",
              "      flex-wrap:wrap;\n",
              "      gap: 12px;\n",
              "    }\n",
              "\n",
              "    .colab-df-convert {\n",
              "      background-color: #E8F0FE;\n",
              "      border: none;\n",
              "      border-radius: 50%;\n",
              "      cursor: pointer;\n",
              "      display: none;\n",
              "      fill: #1967D2;\n",
              "      height: 32px;\n",
              "      padding: 0 0 0 0;\n",
              "      width: 32px;\n",
              "    }\n",
              "\n",
              "    .colab-df-convert:hover {\n",
              "      background-color: #E2EBFA;\n",
              "      box-shadow: 0px 1px 2px rgba(60, 64, 67, 0.3), 0px 1px 3px 1px rgba(60, 64, 67, 0.15);\n",
              "      fill: #174EA6;\n",
              "    }\n",
              "\n",
              "    [theme=dark] .colab-df-convert {\n",
              "      background-color: #3B4455;\n",
              "      fill: #D2E3FC;\n",
              "    }\n",
              "\n",
              "    [theme=dark] .colab-df-convert:hover {\n",
              "      background-color: #434B5C;\n",
              "      box-shadow: 0px 1px 3px 1px rgba(0, 0, 0, 0.15);\n",
              "      filter: drop-shadow(0px 1px 2px rgba(0, 0, 0, 0.3));\n",
              "      fill: #FFFFFF;\n",
              "    }\n",
              "  </style>\n",
              "\n",
              "      <script>\n",
              "        const buttonEl =\n",
              "          document.querySelector('#df-714c9bcb-3a35-40b7-9821-b15cb30d5c45 button.colab-df-convert');\n",
              "        buttonEl.style.display =\n",
              "          google.colab.kernel.accessAllowed ? 'block' : 'none';\n",
              "\n",
              "        async function convertToInteractive(key) {\n",
              "          const element = document.querySelector('#df-714c9bcb-3a35-40b7-9821-b15cb30d5c45');\n",
              "          const dataTable =\n",
              "            await google.colab.kernel.invokeFunction('convertToInteractive',\n",
              "                                                     [key], {});\n",
              "          if (!dataTable) return;\n",
              "\n",
              "          const docLinkHtml = 'Like what you see? Visit the ' +\n",
              "            '<a target=\"_blank\" href=https://colab.research.google.com/notebooks/data_table.ipynb>data table notebook</a>'\n",
              "            + ' to learn more about interactive tables.';\n",
              "          element.innerHTML = '';\n",
              "          dataTable['output_type'] = 'display_data';\n",
              "          await google.colab.output.renderOutput(dataTable, element);\n",
              "          const docLink = document.createElement('div');\n",
              "          docLink.innerHTML = docLinkHtml;\n",
              "          element.appendChild(docLink);\n",
              "        }\n",
              "      </script>\n",
              "    </div>\n",
              "  </div>\n",
              "  "
            ]
          },
          "metadata": {},
          "execution_count": 77
        }
      ]
    },
    {
      "cell_type": "markdown",
      "source": [
        "**We have finally converted the labels into numerical values . Let's preprocess the text we will remove punctuations and derive the word into it's base form by applying Lemmatization**"
      ],
      "metadata": {
        "id": "UzRHxi3GjnkV"
      }
    },
    {
      "cell_type": "code",
      "source": [
        "nlp=spacy.load(\"en_core_web_sm\");\n",
        "def preprocess(text):\n",
        "  doc=nlp(text);\n",
        "  filtered_tokens=[token.lemma_ for token in doc if not token.is_punct and not token.is_stop ];\n",
        "  return \" \".join(filtered_tokens);"
      ],
      "metadata": {
        "id": "k2fBahfYjUMc"
      },
      "execution_count": null,
      "outputs": []
    },
    {
      "cell_type": "markdown",
      "source": [
        "**We will apply to our pandas Comment column and will create a new column called preprocesse_comments**"
      ],
      "metadata": {
        "id": "JySZW5XUkZPM"
      }
    },
    {
      "cell_type": "code",
      "source": [
        "df['preprocessed_comments']=df.Comment.apply(preprocess);"
      ],
      "metadata": {
        "id": "XnP4fdVxjh6A"
      },
      "execution_count": null,
      "outputs": []
    },
    {
      "cell_type": "code",
      "source": [
        "\n",
        "X_train,X_test,Y_train,Y_test=train_test_split(df.preprocessed_comments,df.Emotion,test_size=0.2,random_state=2022);"
      ],
      "metadata": {
        "id": "HvqB4ZhcWkWq"
      },
      "execution_count": null,
      "outputs": []
    },
    {
      "cell_type": "markdown",
      "source": [
        "**Building sklearn pipleline and using tfidf as a text representation**"
      ],
      "metadata": {
        "id": "WyjE4R7IVFxk"
      }
    },
    {
      "cell_type": "code",
      "source": [
        "multinomial_nb=Pipeline([\n",
        "    ('vectorizer',TfidfVectorizer()),\n",
        "    ('model',MultinomialNB())\n",
        "])"
      ],
      "metadata": {
        "id": "JeFpwxLolMGc"
      },
      "execution_count": null,
      "outputs": []
    },
    {
      "cell_type": "code",
      "source": [
        "\n",
        "multinomial_nb.fit(X_train,Y_train);\n",
        "y_pred_multinomial_nb=multinomial_nb.predict(X_test);\n",
        "report_multinomial=classification_report(Y_test,y_pred_multinomial_nb);\n",
        "print(report_multinomial)"
      ],
      "metadata": {
        "colab": {
          "base_uri": "https://localhost:8080/"
        },
        "id": "CVnTfdAMWV9I",
        "outputId": "064547ee-c162-495f-99d0-3f2d10e5b395"
      },
      "execution_count": null,
      "outputs": [
        {
          "output_type": "stream",
          "name": "stdout",
          "text": [
            "              precision    recall  f1-score   support\n",
            "\n",
            "           0       0.91      0.89      0.90       407\n",
            "           1       0.93      0.91      0.92       400\n",
            "           2       0.89      0.93      0.91       381\n",
            "\n",
            "    accuracy                           0.91      1188\n",
            "   macro avg       0.91      0.91      0.91      1188\n",
            "weighted avg       0.91      0.91      0.91      1188\n",
            "\n"
          ]
        }
      ]
    },
    {
      "cell_type": "code",
      "source": [
        "corpus=[\n",
        "    'I am frightened a lot what will happen tomorrow i have not completed the assignment . Miss.polly will eat me alive',\n",
        "    'I have spent a lovely 4 weeks of holiday in switzerland . Definitely the best weeks of my life',\n",
        "    'I am too much frustrated to have your stupid service',\n",
        "    'I have hatred for him for his past behaviour with me i hope he dies soon.I get furious when i hear his name',\n",
        "     'I got my delivery after five weeks the service offered was the most terrible service i have ever seen in my entire life',\n",
        "     'I am delighted to have your superior service thank you ',\n",
        "     \n",
        "];\n",
        "\n",
        "\n",
        "predictions=[];\n",
        "for i in multinomial_nb.predict(corpus):\n",
        "  if(i==0):\n",
        "    predictions.append('Anger');\n",
        "  elif i==1:\n",
        "    predictions.append('Joy');\n",
        "  else:\n",
        "    predictions.append('Fear')    \n",
        "\n",
        "\n",
        "print(predictions)"
      ],
      "metadata": {
        "colab": {
          "base_uri": "https://localhost:8080/"
        },
        "id": "HSyQfJGlmw-O",
        "outputId": "e2cbd194-500e-422c-de8d-c5b7ae5c341f"
      },
      "execution_count": null,
      "outputs": [
        {
          "output_type": "stream",
          "name": "stdout",
          "text": [
            "['Fear', 'Joy', 'Anger', 'Anger', 'Anger', 'Joy']\n"
          ]
        }
      ]
    },
    {
      "cell_type": "code",
      "source": [],
      "metadata": {
        "id": "31oe62EFmw7u"
      },
      "execution_count": null,
      "outputs": []
    },
    {
      "cell_type": "code",
      "source": [
        "random_forest=Pipeline([\n",
        "    ('vectorizer',TfidfVectorizer()),\n",
        "    ('model',RandomForestClassifier(n_estimators=25,criterion='gini'))\n",
        "        \n",
        "    \n",
        "]);\n",
        "random_forest.fit(X_train,Y_train);\n",
        "y_pred_forest=random_forest.predict(X_test);\n",
        "classificaton_report_forest=classification_report(Y_test,y_pred_forest);\n",
        "print(classificaton_report_forest);\n"
      ],
      "metadata": {
        "colab": {
          "base_uri": "https://localhost:8080/"
        },
        "id": "LbTSEL4rXKHD",
        "outputId": "a4a03431-9f90-4014-f876-004240760fe8"
      },
      "execution_count": null,
      "outputs": [
        {
          "output_type": "stream",
          "name": "stdout",
          "text": [
            "              precision    recall  f1-score   support\n",
            "\n",
            "           0       0.93      0.90      0.92       407\n",
            "           1       0.91      0.94      0.93       400\n",
            "           2       0.93      0.92      0.92       381\n",
            "\n",
            "    accuracy                           0.92      1188\n",
            "   macro avg       0.92      0.92      0.92      1188\n",
            "weighted avg       0.92      0.92      0.92      1188\n",
            "\n"
          ]
        }
      ]
    },
    {
      "cell_type": "code",
      "source": [
        "corpus=[\n",
        "    'I am frightened a lot what will happen tomorrow i have not completed the assignment . Miss.polly will eat me alive',\n",
        "    'I have spent a lovely 4 weeks of holiday in switzerland . Definitely the best weeks of my life',\n",
        "    'I am too much frustrated to have your stupid service',\n",
        "    'I have hatred for him for his past behaviour with me i hope he dies soon.I get furious when i hear his name',\n",
        "     'I got my delivery after five weeks the service offered was the most terrible service i have ever seen in my entire life',\n",
        "     'I am delighted to have your superior service thank you ',\n",
        "     \n",
        "];\n",
        "\n",
        "\n",
        "predictions=[];\n",
        "for i in random_forest.predict(corpus):\n",
        "  if(i==0):\n",
        "    predictions.append('Anger');\n",
        "  elif i==1:\n",
        "    predictions.append('Joy');\n",
        "  else:\n",
        "    predictions.append('Fear')    \n",
        "\n",
        "\n",
        "print(predictions)"
      ],
      "metadata": {
        "colab": {
          "base_uri": "https://localhost:8080/"
        },
        "id": "zp9tYVR7mkxq",
        "outputId": "074207f6-5497-4a64-9433-c6a0396c2b22"
      },
      "execution_count": null,
      "outputs": [
        {
          "output_type": "stream",
          "name": "stdout",
          "text": [
            "['Fear', 'Anger', 'Anger', 'Anger', 'Fear', 'Anger']\n"
          ]
        }
      ]
    },
    {
      "cell_type": "markdown",
      "source": [
        "**As we can see in terms of both precision ,recall and f1-score random forest performs better than multinomial naive_bayes**"
      ],
      "metadata": {
        "id": "sH-bB-86Zq37"
      }
    },
    {
      "cell_type": "markdown",
      "source": [
        "***Now let's try SVM(support vector machines) and see how it performs***"
      ],
      "metadata": {
        "id": "J13Nbl2XavQi"
      }
    },
    {
      "cell_type": "code",
      "source": [
        "svm=Pipeline([\n",
        "    ('vectorizer',TfidfVectorizer()),\n",
        "    ('model',SVC(kernel='linear',C=0.9))\n",
        "]);"
      ],
      "metadata": {
        "id": "NVzluorXZpsq"
      },
      "execution_count": null,
      "outputs": []
    },
    {
      "cell_type": "code",
      "source": [
        "svm.fit(X_train,Y_train);\n",
        "y_pred_svm=svm.predict(X_test);\n",
        "report_svm=classification_report(Y_test,y_pred_svm);\n",
        "print(report_svm);"
      ],
      "metadata": {
        "colab": {
          "base_uri": "https://localhost:8080/"
        },
        "id": "H0qUp06sZHh1",
        "outputId": "75391431-4d61-4095-bc6e-677b32155ef8"
      },
      "execution_count": null,
      "outputs": [
        {
          "output_type": "stream",
          "name": "stdout",
          "text": [
            "              precision    recall  f1-score   support\n",
            "\n",
            "           0       0.93      0.93      0.93       407\n",
            "           1       0.93      0.95      0.94       400\n",
            "           2       0.94      0.93      0.93       381\n",
            "\n",
            "    accuracy                           0.94      1188\n",
            "   macro avg       0.94      0.94      0.94      1188\n",
            "weighted avg       0.94      0.94      0.94      1188\n",
            "\n"
          ]
        }
      ]
    },
    {
      "cell_type": "code",
      "source": [
        "corpus=[\n",
        "    'I am frightened a lot what will happen tomorrow i have not completed the assignment . Miss.polly will eat me alive',\n",
        "    'I have spent a lovely 4 weeks of holiday in switzerland . Definitely the best weeks of my life',\n",
        "    'I am too much frustrated to have your stupid service',\n",
        "    'I have hatred for him for his past behaviour with me i hope he dies soon.I get furious when i hear his name',\n",
        "     'I got my delivery after five weeks the service offered was the most terrible service i have ever seen in my entire life',\n",
        "     'I am delighted to have your superior service thank you ',\n",
        "     \"Pathetic experience! after two weeks of purchase, without installing major updates or software system crashed automatically in few minutes after a startup and showing Automatic repair could not repair your PC loop. Not able to return as it's is already been ended from Amazon side. I have purchased it as a no cost emi and for the next day delivery subscribed to prime as well. I don't know what to do, laptop still not working and i need to pay my next two EMIs.\"\n",
        "     \n",
        "];\n",
        "\n",
        "\n",
        "predictions=[];\n",
        "for i in svm.predict(corpus):\n",
        "  if(i==0):\n",
        "    predictions.append('Anger');\n",
        "  elif i==1:\n",
        "    predictions.append('Joy');\n",
        "  else:\n",
        "    predictions.append('Fear')    \n",
        "\n",
        "\n",
        "print(predictions)"
      ],
      "metadata": {
        "colab": {
          "base_uri": "https://localhost:8080/"
        },
        "id": "ZrpzEzSfbq-z",
        "outputId": "3dd67d07-1227-4821-d87f-2f865ec8f40d"
      },
      "execution_count": null,
      "outputs": [
        {
          "output_type": "stream",
          "name": "stdout",
          "text": [
            "['Fear', 'Joy', 'Anger', 'Anger', 'Anger', 'Joy', 'Joy']\n"
          ]
        }
      ]
    },
    {
      "cell_type": "code",
      "source": [
        "decisionTree=Pipeline([\n",
        "    ('vectorizer',TfidfVectorizer()),\n",
        "    ('model',BaggingClassifier(base_estimator=DecisionTreeClassifier(),n_estimators=25,random_state=2022))\n",
        "])"
      ],
      "metadata": {
        "id": "PFcdrkeccCRG"
      },
      "execution_count": null,
      "outputs": []
    },
    {
      "cell_type": "code",
      "source": [
        "decisionTree.fit(X_train,Y_train);\n",
        "y_pred=decisionTree.predict(X_test);\n",
        "report_decisionTree=classification_report(Y_test,y_pred);\n",
        "print(report_decisionTree)"
      ],
      "metadata": {
        "colab": {
          "base_uri": "https://localhost:8080/"
        },
        "id": "5Qk_ne6gjn8h",
        "outputId": "73d952a2-3196-485c-84ac-59fbcceb2133"
      },
      "execution_count": null,
      "outputs": [
        {
          "output_type": "stream",
          "name": "stdout",
          "text": [
            "              precision    recall  f1-score   support\n",
            "\n",
            "           0       0.94      0.92      0.93       407\n",
            "           1       0.94      0.95      0.95       400\n",
            "           2       0.94      0.94      0.94       381\n",
            "\n",
            "    accuracy                           0.94      1188\n",
            "   macro avg       0.94      0.94      0.94      1188\n",
            "weighted avg       0.94      0.94      0.94      1188\n",
            "\n"
          ]
        }
      ]
    },
    {
      "cell_type": "code",
      "source": [
        "corpus=[\n",
        "    'I am frightened a lot what will happen tomorrow i have not completed the assignment . Miss.polly will eat me alive',\n",
        "    'I have spent a lovely 4 weeks holiday in switzerland . Definitely the best weeks of my life',\n",
        "    'I am too much frustrated to have your stupid service',\n",
        "    'I  have hatred for him for his past behaviour with me i hope he dies soon.I get furious when i hear his name',\n",
        "    'I got my delivery after five weeks the service offered was the most terrible service i have ever seen in my entire life',\n",
        "    'I am delighted to have your superior service thank you ',\n",
        "   \n",
        "];\n",
        "\n",
        "\n",
        "predictions=[];\n",
        "for i in decisionTree.predict(corpus):\n",
        "  if(i==0):\n",
        "    predictions.append('Anger');\n",
        "  elif i==1:\n",
        "    predictions.append('Joy');\n",
        "  else:\n",
        "    predictions.append('Fear')    \n",
        "\n",
        "\n",
        "print(predictions)"
      ],
      "metadata": {
        "colab": {
          "base_uri": "https://localhost:8080/"
        },
        "id": "eJfzZ9lHj9RZ",
        "outputId": "52485bbb-ba1b-404c-cc6d-b25a1c5cac5c"
      },
      "execution_count": null,
      "outputs": [
        {
          "output_type": "stream",
          "name": "stdout",
          "text": [
            "['Fear', 'Anger', 'Anger', 'Anger', 'Anger', 'Anger']\n"
          ]
        }
      ]
    },
    {
      "cell_type": "markdown",
      "source": [
        "**Till now our SVM models performs the best of all the models Note:- I have not tried out many different parameters . But you can use different hyperparameter tuning techniques such randomizedSearchCV, GridSearchCV to find the best parameters**"
      ],
      "metadata": {
        "id": "e7sKQE3Yl5ki"
      }
    },
    {
      "cell_type": "markdown",
      "source": [
        "**Let's have a look at the confusion matrix of our svm model**\n",
        "\n",
        "\n"
      ],
      "metadata": {
        "id": "5RGBxL78r61b"
      }
    },
    {
      "cell_type": "code",
      "source": [
        "cm=confusion_matrix(Y_test,y_pred_svm);\n",
        "\n",
        "sns.heatmap(cm, annot=True,fmt='d')"
      ],
      "metadata": {
        "colab": {
          "base_uri": "https://localhost:8080/",
          "height": 282
        },
        "id": "OJcEGHP_kTd6",
        "outputId": "abe27e69-89cb-4e89-8c9d-90581cbb493f"
      },
      "execution_count": null,
      "outputs": [
        {
          "output_type": "execute_result",
          "data": {
            "text/plain": [
              "<matplotlib.axes._subplots.AxesSubplot at 0x7f5ab87af810>"
            ]
          },
          "metadata": {},
          "execution_count": 92
        },
        {
          "output_type": "display_data",
          "data": {
            "text/plain": [
              "<Figure size 432x288 with 2 Axes>"
            ],
            "image/png": "[encoded data removed]"
          },
          "metadata": {
            "needs_background": "light"
          }
        }
      ]
    },
    {
      "cell_type": "markdown",
      "source": [
        "**Now we will train the models after getting the text representation by using word embeddings.As Tf-Idf and bag of words are unable to capture the meanings of the word and cannot handle oov(Out of vocabulary) problem.We will now use spacy to get word embeddings**"
      ],
      "metadata": {
        "id": "C6DWtOOvFIRY"
      }
    },
    {
      "cell_type": "code",
      "source": [
        "import spacy.cli\n",
        "spacy.cli.download(\"en_core_web_lg\");\n",
        "\n"
      ],
      "metadata": {
        "colab": {
          "base_uri": "https://localhost:8080/"
        },
        "id": "vZ6pb7DRMXNv",
        "outputId": "e9817c3a-1abe-4f41-c029-76b2a9a29a21"
      },
      "execution_count": null,
      "outputs": [
        {
          "output_type": "stream",
          "name": "stdout",
          "text": [
            "\u001b[38;5;2m✔ Download and installation successful\u001b[0m\n",
            "You can now load the package via spacy.load('en_core_web_lg')\n"
          ]
        }
      ]
    },
    {
      "cell_type": "code",
      "source": [
        "nlp=spacy.load(\"en_core_web_lg\");"
      ],
      "metadata": {
        "id": "e-W8dmy7S1LZ"
      },
      "execution_count": null,
      "outputs": []
    },
    {
      "cell_type": "code",
      "source": [
        "\n",
        "def preprocess_and_vectorize(text):\n",
        "  document=nlp(text);\n",
        "  filtered_tokens=[token.lemma_ for token in document if not token.is_stop and not token.is_punct];\n",
        "  preprocessed_text=\" \".join(filtered_tokens);\n",
        "  return nlp(preprocessed_text).vector;\n",
        "\n",
        "df['word_embeddings']=df['Comment'].apply(preprocess_and_vectorize);"
      ],
      "metadata": {
        "id": "-67Vp5b_onTg"
      },
      "execution_count": null,
      "outputs": []
    },
    {
      "cell_type": "code",
      "source": [
        "df['word_embeddings'][0].shape"
      ],
      "metadata": {
        "id": "nLGL8l1rpCzQ",
        "colab": {
          "base_uri": "https://localhost:8080/"
        },
        "outputId": "41ff01b5-233e-4c40-ceb0-72a44aeeb36e"
      },
      "execution_count": null,
      "outputs": [
        {
          "output_type": "execute_result",
          "data": {
            "text/plain": [
              "(300,)"
            ]
          },
          "metadata": {},
          "execution_count": 96
        }
      ]
    },
    {
      "cell_type": "markdown",
      "source": [
        "**Our each embedding of the sentence is of dimension 300.We get embeddings of the sentence by finding the mean vector of all the embeddings of the tokens in a  sentence.**"
      ],
      "metadata": {
        "id": "wfMpdEejUhSv"
      }
    },
    {
      "cell_type": "code",
      "source": [
        "df.head(3)"
      ],
      "metadata": {
        "colab": {
          "base_uri": "https://localhost:8080/",
          "height": 239
        },
        "id": "qC6mpJiDUO-4",
        "outputId": "e7acc721-3892-4e40-fed9-a1d55f6e7aef"
      },
      "execution_count": null,
      "outputs": [
        {
          "output_type": "execute_result",
          "data": {
            "text/plain": [
              "                                             Comment  Emotion  \\\n",
              "0  i seriously hate one subject to death but now ...        2   \n",
              "1                 im so full of life i feel appalled        0   \n",
              "2  i sit here to write i start to dig out my feel...        2   \n",
              "\n",
              "                               preprocessed_comments  \\\n",
              "0   seriously hate subject death feel reluctant drop   \n",
              "1                                  m life feel appal   \n",
              "2  sit write start dig feeling think afraid accep...   \n",
              "\n",
              "                                     word_embeddings  \n",
              "0  [0.23427427, -0.18293425, -2.0742915, -1.76109...  \n",
              "1  [-0.18391502, -2.1977448, -2.836125, -3.996749...  \n",
              "2  [0.990039, 2.0657575, -1.9255166, -0.9510855, ...  "
            ],
            "text/html": [
              "\n",
              "  <div id=\"df-87e790ef-b21d-4421-8095-c8855d056f6f\">\n",
              "    <div class=\"colab-df-container\">\n",
              "      <div>\n",
              "<style scoped>\n",
              "    .dataframe tbody tr th:only-of-type {\n",
              "        vertical-align: middle;\n",
              "    }\n",
              "\n",
              "    .dataframe tbody tr th {\n",
              "        vertical-align: top;\n",
              "    }\n",
              "\n",
              "    .dataframe thead th {\n",
              "        text-align: right;\n",
              "    }\n",
              "</style>\n",
              "<table border=\"1\" class=\"dataframe\">\n",
              "  <thead>\n",
              "    <tr style=\"text-align: right;\">\n",
              "      <th></th>\n",
              "      <th>Comment</th>\n",
              "      <th>Emotion</th>\n",
              "      <th>preprocessed_comments</th>\n",
              "      <th>word_embeddings</th>\n",
              "    </tr>\n",
              "  </thead>\n",
              "  <tbody>\n",
              "    <tr>\n",
              "      <th>0</th>\n",
              "      <td>i seriously hate one subject to death but now ...</td>\n",
              "      <td>2</td>\n",
              "      <td>seriously hate subject death feel reluctant drop</td>\n",
              "      <td>[0.23427427, -0.18293425, -2.0742915, -1.76109...</td>\n",
              "    </tr>\n",
              "    <tr>\n",
              "      <th>1</th>\n",
              "      <td>im so full of life i feel appalled</td>\n",
              "      <td>0</td>\n",
              "      <td>m life feel appal</td>\n",
              "      <td>[-0.18391502, -2.1977448, -2.836125, -3.996749...</td>\n",
              "    </tr>\n",
              "    <tr>\n",
              "      <th>2</th>\n",
              "      <td>i sit here to write i start to dig out my feel...</td>\n",
              "      <td>2</td>\n",
              "      <td>sit write start dig feeling think afraid accep...</td>\n",
              "      <td>[0.990039, 2.0657575, -1.9255166, -0.9510855, ...</td>\n",
              "    </tr>\n",
              "  </tbody>\n",
              "</table>\n",
              "</div>\n",
              "      <button class=\"colab-df-convert\" onclick=\"convertToInteractive('df-87e790ef-b21d-4421-8095-c8855d056f6f')\"\n",
              "              title=\"Convert this dataframe to an interactive table.\"\n",
              "              style=\"display:none;\">\n",
              "        \n",
              "  <svg xmlns=\"http://www.w3.org/2000/svg\" height=\"24px\"viewBox=\"0 0 24 24\"\n",
              "       width=\"24px\">\n",
              "    <path d=\"M0 0h24v24H0V0z\" fill=\"none\"/>\n",
              "    <path d=\"M18.56 5.44l.94 2.06.94-2.06 2.06-.94-2.06-.94-.94-2.06-.94 2.06-2.06.94zm-11 1L8.5 8.5l.94-2.06 2.06-.94-2.06-.94L8.5 2.5l-.94 2.06-2.06.94zm10 10l.94 2.06.94-2.06 2.06-.94-2.06-.94-.94-2.06-.94 2.06-2.06.94z\"/><path d=\"M17.41 7.96l-1.37-1.37c-.4-.4-.92-.59-1.43-.59-.52 0-1.04.2-1.43.59L10.3 9.45l-7.72 7.72c-.78.78-.78 2.05 0 2.83L4 21.41c.39.39.9.59 1.41.59.51 0 1.02-.2 1.41-.59l7.78-7.78 2.81-2.81c.8-.78.8-2.07 0-2.86zM5.41 20L4 18.59l7.72-7.72 1.47 1.35L5.41 20z\"/>\n",
              "  </svg>\n",
              "      </button>\n",
              "      \n",
              "  <style>\n",
              "    .colab-df-container {\n",
              "      display:flex;\n",
              "      flex-wrap:wrap;\n",
              "      gap: 12px;\n",
              "    }\n",
              "\n",
              "    .colab-df-convert {\n",
              "      background-color: #E8F0FE;\n",
              "      border: none;\n",
              "      border-radius: 50%;\n",
              "      cursor: pointer;\n",
              "      display: none;\n",
              "      fill: #1967D2;\n",
              "      height: 32px;\n",
              "      padding: 0 0 0 0;\n",
              "      width: 32px;\n",
              "    }\n",
              "\n",
              "    .colab-df-convert:hover {\n",
              "      background-color: #E2EBFA;\n",
              "      box-shadow: 0px 1px 2px rgba(60, 64, 67, 0.3), 0px 1px 3px 1px rgba(60, 64, 67, 0.15);\n",
              "      fill: #174EA6;\n",
              "    }\n",
              "\n",
              "    [theme=dark] .colab-df-convert {\n",
              "      background-color: #3B4455;\n",
              "      fill: #D2E3FC;\n",
              "    }\n",
              "\n",
              "    [theme=dark] .colab-df-convert:hover {\n",
              "      background-color: #434B5C;\n",
              "      box-shadow: 0px 1px 3px 1px rgba(0, 0, 0, 0.15);\n",
              "      filter: drop-shadow(0px 1px 2px rgba(0, 0, 0, 0.3));\n",
              "      fill: #FFFFFF;\n",
              "    }\n",
              "  </style>\n",
              "\n",
              "      <script>\n",
              "        const buttonEl =\n",
              "          document.querySelector('#df-87e790ef-b21d-4421-8095-c8855d056f6f button.colab-df-convert');\n",
              "        buttonEl.style.display =\n",
              "          google.colab.kernel.accessAllowed ? 'block' : 'none';\n",
              "\n",
              "        async function convertToInteractive(key) {\n",
              "          const element = document.querySelector('#df-87e790ef-b21d-4421-8095-c8855d056f6f');\n",
              "          const dataTable =\n",
              "            await google.colab.kernel.invokeFunction('convertToInteractive',\n",
              "                                                     [key], {});\n",
              "          if (!dataTable) return;\n",
              "\n",
              "          const docLinkHtml = 'Like what you see? Visit the ' +\n",
              "            '<a target=\"_blank\" href=https://colab.research.google.com/notebooks/data_table.ipynb>data table notebook</a>'\n",
              "            + ' to learn more about interactive tables.';\n",
              "          element.innerHTML = '';\n",
              "          dataTable['output_type'] = 'display_data';\n",
              "          await google.colab.output.renderOutput(dataTable, element);\n",
              "          const docLink = document.createElement('div');\n",
              "          docLink.innerHTML = docLinkHtml;\n",
              "          element.appendChild(docLink);\n",
              "        }\n",
              "      </script>\n",
              "    </div>\n",
              "  </div>\n",
              "  "
            ]
          },
          "metadata": {},
          "execution_count": 97
        }
      ]
    },
    {
      "cell_type": "markdown",
      "source": [
        "**Let's do the train test splitting**"
      ],
      "metadata": {
        "id": "FuoRj61mW1uY"
      }
    },
    {
      "cell_type": "code",
      "source": [
        "X_train,X_test,Y_train,Y_test=train_test_split(df['word_embeddings'],df.Emotion,test_size=0.2,random_state=2022);\n",
        "\n",
        "X_train=np.stack(X_train);\n",
        "X_test=np.stack(X_test);"
      ],
      "metadata": {
        "id": "x1qQFELrXTFb"
      },
      "execution_count": null,
      "outputs": []
    },
    {
      "cell_type": "markdown",
      "source": [
        " **We will use now train the multinomial naive bayes model using the sentence embeddings generated. But multinomial naive bayes cannot handle negatives so we will scale the embeddings.Let's use sklearn pipeline to achieve the same**"
      ],
      "metadata": {
        "id": "e76BE5kcVauf"
      }
    },
    {
      "cell_type": "code",
      "source": [
        "from sklearn.preprocessing import MinMaxScaler\n",
        "\n",
        "multinomial_nb=Pipeline([\n",
        "    \n",
        "    ('Scaler',MinMaxScaler()),\n",
        "    ('model',MultinomialNB())\n",
        "\n",
        "])\n",
        "\n",
        "multinomial_nb.fit(X_train,Y_train)\n"
      ],
      "metadata": {
        "colab": {
          "base_uri": "https://localhost:8080/"
        },
        "id": "9mKe2oztVJgm",
        "outputId": "38655b46-65ac-4248-fc11-b0701d2686cf"
      },
      "execution_count": null,
      "outputs": [
        {
          "output_type": "execute_result",
          "data": {
            "text/plain": [
              "Pipeline(steps=[('Scaler', MinMaxScaler()), ('model', MultinomialNB())])"
            ]
          },
          "metadata": {},
          "execution_count": 99
        }
      ]
    },
    {
      "cell_type": "code",
      "source": [
        "y_pred_multinomial_nb=multinomial_nb.predict(X_test);\n",
        "cr_nb=classification_report(Y_test,y_pred_multinomial_nb);"
      ],
      "metadata": {
        "id": "g2taqwgaXi1G"
      },
      "execution_count": null,
      "outputs": []
    },
    {
      "cell_type": "markdown",
      "source": [
        "***Classification report of multinomial naive bayes***"
      ],
      "metadata": {
        "id": "E7qaaEV-VwNR"
      }
    },
    {
      "cell_type": "code",
      "source": [
        "print(cr_nb)"
      ],
      "metadata": {
        "colab": {
          "base_uri": "https://localhost:8080/"
        },
        "id": "E9iqXqbMVrgS",
        "outputId": "2d268e7f-0e7c-4be1-cd41-2689f7e0b3eb"
      },
      "execution_count": null,
      "outputs": [
        {
          "output_type": "stream",
          "name": "stdout",
          "text": [
            "              precision    recall  f1-score   support\n",
            "\n",
            "           0       0.54      0.58      0.56       407\n",
            "           1       0.55      0.70      0.62       400\n",
            "           2       0.50      0.31      0.38       381\n",
            "\n",
            "    accuracy                           0.54      1188\n",
            "   macro avg       0.53      0.53      0.52      1188\n",
            "weighted avg       0.53      0.54      0.52      1188\n",
            "\n"
          ]
        }
      ]
    },
    {
      "cell_type": "code",
      "source": [
        "random_forest=Pipeline(\n",
        "    [\n",
        "        ('model',RandomForestClassifier(n_estimators=25,criterion='gini'))\n",
        "    ]\n",
        ")"
      ],
      "metadata": {
        "id": "fRBbkDiHVun8"
      },
      "execution_count": null,
      "outputs": []
    },
    {
      "cell_type": "code",
      "source": [
        "random_forest.fit(X_train,Y_train);"
      ],
      "metadata": {
        "id": "gqSdrAWVWM7Q"
      },
      "execution_count": null,
      "outputs": []
    },
    {
      "cell_type": "code",
      "source": [
        "y_pred_rf=random_forest.predict(X_test);\n",
        "cr_rf=classification_report(Y_test,y_pred_rf);\n",
        "print(cr_rf);"
      ],
      "metadata": {
        "colab": {
          "base_uri": "https://localhost:8080/"
        },
        "id": "n1CNP_YBWQOj",
        "outputId": "c489cf8b-b011-4c80-94ec-3e4b067d0060"
      },
      "execution_count": null,
      "outputs": [
        {
          "output_type": "stream",
          "name": "stdout",
          "text": [
            "              precision    recall  f1-score   support\n",
            "\n",
            "           0       0.53      0.60      0.56       407\n",
            "           1       0.63      0.66      0.64       400\n",
            "           2       0.52      0.43      0.47       381\n",
            "\n",
            "    accuracy                           0.56      1188\n",
            "   macro avg       0.56      0.56      0.56      1188\n",
            "weighted avg       0.56      0.56      0.56      1188\n",
            "\n"
          ]
        }
      ]
    },
    {
      "cell_type": "code",
      "source": [
        "knn=KNeighborsClassifier(n_neighbors=5);\n",
        "knn.fit(X_train,Y_train);\n",
        "y_pred=knn.predict(X_test);\n",
        "cr_knn=classification_report(Y_test,y_pred);\n",
        "print(cr_knn)"
      ],
      "metadata": {
        "colab": {
          "base_uri": "https://localhost:8080/"
        },
        "id": "XJG0ICCKWbgf",
        "outputId": "41b3d524-024e-4609-df57-b002c4996935"
      },
      "execution_count": null,
      "outputs": [
        {
          "output_type": "stream",
          "name": "stdout",
          "text": [
            "              precision    recall  f1-score   support\n",
            "\n",
            "           0       0.45      0.65      0.53       407\n",
            "           1       0.60      0.45      0.51       400\n",
            "           2       0.44      0.34      0.38       381\n",
            "\n",
            "    accuracy                           0.48      1188\n",
            "   macro avg       0.49      0.48      0.48      1188\n",
            "weighted avg       0.50      0.48      0.48      1188\n",
            "\n"
          ]
        }
      ]
    },
    {
      "cell_type": "markdown",
      "source": [
        "**We will save the svm which gave us best results.**"
      ],
      "metadata": {
        "id": "pLtk0XSNgLad"
      }
    },
    {
      "cell_type": "code",
      "source": [
        "import pickle\n",
        "\n",
        "with open(\"emotions_model\",\"wb\") as fb:\n",
        "  pickle.dump(svm,fb);\n"
      ],
      "metadata": {
        "id": "IwgwdaGeX397"
      },
      "execution_count": null,
      "outputs": []
    },
    {
      "cell_type": "markdown",
      "source": [
        "**We will now use fasttext to train a supervised learning model to classify the emotions . We will also get embeddings using fasttext. Fasttext is better at handling the oov(Out of vocabulary) problem than word2vec.It is an extension to the word2vec model which uses character n_grams instead of words.**"
      ],
      "metadata": {
        "id": "gBJjbMeka1Wm"
      }
    },
    {
      "cell_type": "code",
      "source": [
        "df.head(4)"
      ],
      "metadata": {
        "id": "g9F6v7Q7Wv_3",
        "colab": {
          "base_uri": "https://localhost:8080/",
          "height": 288
        },
        "outputId": "8c6eb933-6691-4a80-d7e5-419c9f552826"
      },
      "execution_count": null,
      "outputs": [
        {
          "output_type": "execute_result",
          "data": {
            "text/plain": [
              "                                             Comment  Emotion  \\\n",
              "0  i seriously hate one subject to death but now ...        2   \n",
              "1                 im so full of life i feel appalled        0   \n",
              "2  i sit here to write i start to dig out my feel...        2   \n",
              "3  ive been really angry with r and i feel like a...        1   \n",
              "\n",
              "                               preprocessed_comments  \\\n",
              "0   seriously hate subject death feel reluctant drop   \n",
              "1                                  m life feel appal   \n",
              "2  sit write start dig feeling think afraid accep...   \n",
              "3             ve angry r feel like idiot trust place   \n",
              "\n",
              "                                     word_embeddings  \n",
              "0  [0.23427427, -0.18293425, -2.0742915, -1.76109...  \n",
              "1  [-0.18391502, -2.1977448, -2.836125, -3.996749...  \n",
              "2  [0.990039, 2.0657575, -1.9255166, -0.9510855, ...  \n",
              "3  [-0.23489627, 1.0831214, -1.9585762, -1.482742...  "
            ],
            "text/html": [
              "\n",
              "  <div id=\"df-5e54e862-5af5-40a0-a087-a64433a4d8bd\">\n",
              "    <div class=\"colab-df-container\">\n",
              "      <div>\n",
              "<style scoped>\n",
              "    .dataframe tbody tr th:only-of-type {\n",
              "        vertical-align: middle;\n",
              "    }\n",
              "\n",
              "    .dataframe tbody tr th {\n",
              "        vertical-align: top;\n",
              "    }\n",
              "\n",
              "    .dataframe thead th {\n",
              "        text-align: right;\n",
              "    }\n",
              "</style>\n",
              "<table border=\"1\" class=\"dataframe\">\n",
              "  <thead>\n",
              "    <tr style=\"text-align: right;\">\n",
              "      <th></th>\n",
              "      <th>Comment</th>\n",
              "      <th>Emotion</th>\n",
              "      <th>preprocessed_comments</th>\n",
              "      <th>word_embeddings</th>\n",
              "    </tr>\n",
              "  </thead>\n",
              "  <tbody>\n",
              "    <tr>\n",
              "      <th>0</th>\n",
              "      <td>i seriously hate one subject to death but now ...</td>\n",
              "      <td>2</td>\n",
              "      <td>seriously hate subject death feel reluctant drop</td>\n",
              "      <td>[0.23427427, -0.18293425, -2.0742915, -1.76109...</td>\n",
              "    </tr>\n",
              "    <tr>\n",
              "      <th>1</th>\n",
              "      <td>im so full of life i feel appalled</td>\n",
              "      <td>0</td>\n",
              "      <td>m life feel appal</td>\n",
              "      <td>[-0.18391502, -2.1977448, -2.836125, -3.996749...</td>\n",
              "    </tr>\n",
              "    <tr>\n",
              "      <th>2</th>\n",
              "      <td>i sit here to write i start to dig out my feel...</td>\n",
              "      <td>2</td>\n",
              "      <td>sit write start dig feeling think afraid accep...</td>\n",
              "      <td>[0.990039, 2.0657575, -1.9255166, -0.9510855, ...</td>\n",
              "    </tr>\n",
              "    <tr>\n",
              "      <th>3</th>\n",
              "      <td>ive been really angry with r and i feel like a...</td>\n",
              "      <td>1</td>\n",
              "      <td>ve angry r feel like idiot trust place</td>\n",
              "      <td>[-0.23489627, 1.0831214, -1.9585762, -1.482742...</td>\n",
              "    </tr>\n",
              "  </tbody>\n",
              "</table>\n",
              "</div>\n",
              "      <button class=\"colab-df-convert\" onclick=\"convertToInteractive('df-5e54e862-5af5-40a0-a087-a64433a4d8bd')\"\n",
              "              title=\"Convert this dataframe to an interactive table.\"\n",
              "              style=\"display:none;\">\n",
              "        \n",
              "  <svg xmlns=\"http://www.w3.org/2000/svg\" height=\"24px\"viewBox=\"0 0 24 24\"\n",
              "       width=\"24px\">\n",
              "    <path d=\"M0 0h24v24H0V0z\" fill=\"none\"/>\n",
              "    <path d=\"M18.56 5.44l.94 2.06.94-2.06 2.06-.94-2.06-.94-.94-2.06-.94 2.06-2.06.94zm-11 1L8.5 8.5l.94-2.06 2.06-.94-2.06-.94L8.5 2.5l-.94 2.06-2.06.94zm10 10l.94 2.06.94-2.06 2.06-.94-2.06-.94-.94-2.06-.94 2.06-2.06.94z\"/><path d=\"M17.41 7.96l-1.37-1.37c-.4-.4-.92-.59-1.43-.59-.52 0-1.04.2-1.43.59L10.3 9.45l-7.72 7.72c-.78.78-.78 2.05 0 2.83L4 21.41c.39.39.9.59 1.41.59.51 0 1.02-.2 1.41-.59l7.78-7.78 2.81-2.81c.8-.78.8-2.07 0-2.86zM5.41 20L4 18.59l7.72-7.72 1.47 1.35L5.41 20z\"/>\n",
              "  </svg>\n",
              "      </button>\n",
              "      \n",
              "  <style>\n",
              "    .colab-df-container {\n",
              "      display:flex;\n",
              "      flex-wrap:wrap;\n",
              "      gap: 12px;\n",
              "    }\n",
              "\n",
              "    .colab-df-convert {\n",
              "      background-color: #E8F0FE;\n",
              "      border: none;\n",
              "      border-radius: 50%;\n",
              "      cursor: pointer;\n",
              "      display: none;\n",
              "      fill: #1967D2;\n",
              "      height: 32px;\n",
              "      padding: 0 0 0 0;\n",
              "      width: 32px;\n",
              "    }\n",
              "\n",
              "    .colab-df-convert:hover {\n",
              "      background-color: #E2EBFA;\n",
              "      box-shadow: 0px 1px 2px rgba(60, 64, 67, 0.3), 0px 1px 3px 1px rgba(60, 64, 67, 0.15);\n",
              "      fill: #174EA6;\n",
              "    }\n",
              "\n",
              "    [theme=dark] .colab-df-convert {\n",
              "      background-color: #3B4455;\n",
              "      fill: #D2E3FC;\n",
              "    }\n",
              "\n",
              "    [theme=dark] .colab-df-convert:hover {\n",
              "      background-color: #434B5C;\n",
              "      box-shadow: 0px 1px 3px 1px rgba(0, 0, 0, 0.15);\n",
              "      filter: drop-shadow(0px 1px 2px rgba(0, 0, 0, 0.3));\n",
              "      fill: #FFFFFF;\n",
              "    }\n",
              "  </style>\n",
              "\n",
              "      <script>\n",
              "        const buttonEl =\n",
              "          document.querySelector('#df-5e54e862-5af5-40a0-a087-a64433a4d8bd button.colab-df-convert');\n",
              "        buttonEl.style.display =\n",
              "          google.colab.kernel.accessAllowed ? 'block' : 'none';\n",
              "\n",
              "        async function convertToInteractive(key) {\n",
              "          const element = document.querySelector('#df-5e54e862-5af5-40a0-a087-a64433a4d8bd');\n",
              "          const dataTable =\n",
              "            await google.colab.kernel.invokeFunction('convertToInteractive',\n",
              "                                                     [key], {});\n",
              "          if (!dataTable) return;\n",
              "\n",
              "          const docLinkHtml = 'Like what you see? Visit the ' +\n",
              "            '<a target=\"_blank\" href=https://colab.research.google.com/notebooks/data_table.ipynb>data table notebook</a>'\n",
              "            + ' to learn more about interactive tables.';\n",
              "          element.innerHTML = '';\n",
              "          dataTable['output_type'] = 'display_data';\n",
              "          await google.colab.output.renderOutput(dataTable, element);\n",
              "          const docLink = document.createElement('div');\n",
              "          docLink.innerHTML = docLinkHtml;\n",
              "          element.appendChild(docLink);\n",
              "        }\n",
              "      </script>\n",
              "    </div>\n",
              "  </div>\n",
              "  "
            ]
          },
          "metadata": {},
          "execution_count": 107
        }
      ]
    },
    {
      "cell_type": "code",
      "source": [
        "# To train the fasttext model we will load the dataset again as it required the original text values of labels and we will preprocess it using regex and spacy"
      ],
      "metadata": {
        "id": "4w03SkDqaORp"
      },
      "execution_count": null,
      "outputs": []
    },
    {
      "cell_type": "code",
      "source": [
        "fasttext_df=pd.read_csv(\"https://raw.githubusercontent.com/codebasics/nlp-tutorials/main/12_tf_idf/Emotion_classify_Data.csv\");\n"
      ],
      "metadata": {
        "id": "evOvbJdCaP1d"
      },
      "execution_count": null,
      "outputs": []
    },
    {
      "cell_type": "code",
      "source": [
        "fasttext_df.head(4)"
      ],
      "metadata": {
        "id": "XCksNkQ9bhg1",
        "colab": {
          "base_uri": "https://localhost:8080/",
          "height": 175
        },
        "outputId": "8afa3d26-5623-4a96-afa9-517812ef8f9c"
      },
      "execution_count": null,
      "outputs": [
        {
          "output_type": "execute_result",
          "data": {
            "text/plain": [
              "                                             Comment Emotion\n",
              "0  i seriously hate one subject to death but now ...    fear\n",
              "1                 im so full of life i feel appalled   anger\n",
              "2  i sit here to write i start to dig out my feel...    fear\n",
              "3  ive been really angry with r and i feel like a...     joy"
            ],
            "text/html": [
              "\n",
              "  <div id=\"df-1890cb42-f375-4658-81a4-449cd3a6cb77\">\n",
              "    <div class=\"colab-df-container\">\n",
              "      <div>\n",
              "<style scoped>\n",
              "    .dataframe tbody tr th:only-of-type {\n",
              "        vertical-align: middle;\n",
              "    }\n",
              "\n",
              "    .dataframe tbody tr th {\n",
              "        vertical-align: top;\n",
              "    }\n",
              "\n",
              "    .dataframe thead th {\n",
              "        text-align: right;\n",
              "    }\n",
              "</style>\n",
              "<table border=\"1\" class=\"dataframe\">\n",
              "  <thead>\n",
              "    <tr style=\"text-align: right;\">\n",
              "      <th></th>\n",
              "      <th>Comment</th>\n",
              "      <th>Emotion</th>\n",
              "    </tr>\n",
              "  </thead>\n",
              "  <tbody>\n",
              "    <tr>\n",
              "      <th>0</th>\n",
              "      <td>i seriously hate one subject to death but now ...</td>\n",
              "      <td>fear</td>\n",
              "    </tr>\n",
              "    <tr>\n",
              "      <th>1</th>\n",
              "      <td>im so full of life i feel appalled</td>\n",
              "      <td>anger</td>\n",
              "    </tr>\n",
              "    <tr>\n",
              "      <th>2</th>\n",
              "      <td>i sit here to write i start to dig out my feel...</td>\n",
              "      <td>fear</td>\n",
              "    </tr>\n",
              "    <tr>\n",
              "      <th>3</th>\n",
              "      <td>ive been really angry with r and i feel like a...</td>\n",
              "      <td>joy</td>\n",
              "    </tr>\n",
              "  </tbody>\n",
              "</table>\n",
              "</div>\n",
              "      <button class=\"colab-df-convert\" onclick=\"convertToInteractive('df-1890cb42-f375-4658-81a4-449cd3a6cb77')\"\n",
              "              title=\"Convert this dataframe to an interactive table.\"\n",
              "              style=\"display:none;\">\n",
              "        \n",
              "  <svg xmlns=\"http://www.w3.org/2000/svg\" height=\"24px\"viewBox=\"0 0 24 24\"\n",
              "       width=\"24px\">\n",
              "    <path d=\"M0 0h24v24H0V0z\" fill=\"none\"/>\n",
              "    <path d=\"M18.56 5.44l.94 2.06.94-2.06 2.06-.94-2.06-.94-.94-2.06-.94 2.06-2.06.94zm-11 1L8.5 8.5l.94-2.06 2.06-.94-2.06-.94L8.5 2.5l-.94 2.06-2.06.94zm10 10l.94 2.06.94-2.06 2.06-.94-2.06-.94-.94-2.06-.94 2.06-2.06.94z\"/><path d=\"M17.41 7.96l-1.37-1.37c-.4-.4-.92-.59-1.43-.59-.52 0-1.04.2-1.43.59L10.3 9.45l-7.72 7.72c-.78.78-.78 2.05 0 2.83L4 21.41c.39.39.9.59 1.41.59.51 0 1.02-.2 1.41-.59l7.78-7.78 2.81-2.81c.8-.78.8-2.07 0-2.86zM5.41 20L4 18.59l7.72-7.72 1.47 1.35L5.41 20z\"/>\n",
              "  </svg>\n",
              "      </button>\n",
              "      \n",
              "  <style>\n",
              "    .colab-df-container {\n",
              "      display:flex;\n",
              "      flex-wrap:wrap;\n",
              "      gap: 12px;\n",
              "    }\n",
              "\n",
              "    .colab-df-convert {\n",
              "      background-color: #E8F0FE;\n",
              "      border: none;\n",
              "      border-radius: 50%;\n",
              "      cursor: pointer;\n",
              "      display: none;\n",
              "      fill: #1967D2;\n",
              "      height: 32px;\n",
              "      padding: 0 0 0 0;\n",
              "      width: 32px;\n",
              "    }\n",
              "\n",
              "    .colab-df-convert:hover {\n",
              "      background-color: #E2EBFA;\n",
              "      box-shadow: 0px 1px 2px rgba(60, 64, 67, 0.3), 0px 1px 3px 1px rgba(60, 64, 67, 0.15);\n",
              "      fill: #174EA6;\n",
              "    }\n",
              "\n",
              "    [theme=dark] .colab-df-convert {\n",
              "      background-color: #3B4455;\n",
              "      fill: #D2E3FC;\n",
              "    }\n",
              "\n",
              "    [theme=dark] .colab-df-convert:hover {\n",
              "      background-color: #434B5C;\n",
              "      box-shadow: 0px 1px 3px 1px rgba(0, 0, 0, 0.15);\n",
              "      filter: drop-shadow(0px 1px 2px rgba(0, 0, 0, 0.3));\n",
              "      fill: #FFFFFF;\n",
              "    }\n",
              "  </style>\n",
              "\n",
              "      <script>\n",
              "        const buttonEl =\n",
              "          document.querySelector('#df-1890cb42-f375-4658-81a4-449cd3a6cb77 button.colab-df-convert');\n",
              "        buttonEl.style.display =\n",
              "          google.colab.kernel.accessAllowed ? 'block' : 'none';\n",
              "\n",
              "        async function convertToInteractive(key) {\n",
              "          const element = document.querySelector('#df-1890cb42-f375-4658-81a4-449cd3a6cb77');\n",
              "          const dataTable =\n",
              "            await google.colab.kernel.invokeFunction('convertToInteractive',\n",
              "                                                     [key], {});\n",
              "          if (!dataTable) return;\n",
              "\n",
              "          const docLinkHtml = 'Like what you see? Visit the ' +\n",
              "            '<a target=\"_blank\" href=https://colab.research.google.com/notebooks/data_table.ipynb>data table notebook</a>'\n",
              "            + ' to learn more about interactive tables.';\n",
              "          element.innerHTML = '';\n",
              "          dataTable['output_type'] = 'display_data';\n",
              "          await google.colab.output.renderOutput(dataTable, element);\n",
              "          const docLink = document.createElement('div');\n",
              "          docLink.innerHTML = docLinkHtml;\n",
              "          element.appendChild(docLink);\n",
              "        }\n",
              "      </script>\n",
              "    </div>\n",
              "  </div>\n",
              "  "
            ]
          },
          "metadata": {},
          "execution_count": 110
        }
      ]
    },
    {
      "cell_type": "code",
      "source": [
        "fasttext_df.Emotion.value_counts()"
      ],
      "metadata": {
        "id": "CgN5PSBbbiXJ",
        "colab": {
          "base_uri": "https://localhost:8080/"
        },
        "outputId": "0be85327-9043-4c42-af0b-4615c31a8067"
      },
      "execution_count": null,
      "outputs": [
        {
          "output_type": "execute_result",
          "data": {
            "text/plain": [
              "anger    2000\n",
              "joy      2000\n",
              "fear     1937\n",
              "Name: Emotion, dtype: int64"
            ]
          },
          "metadata": {},
          "execution_count": 111
        }
      ]
    },
    {
      "cell_type": "code",
      "source": [
        "nlp=spacy.load(\"en_core_web_sm\");\n",
        "import re\n",
        "def preprocess(text):\n",
        "  #Removing the punctuations\n",
        "  text=re.sub('[^\\w\\s]',' ',text);\n",
        "  # Removing white spaces\n",
        "  text=re.sub(' +',' ',text);\n",
        "  # Removing stop words and deriving the lemma_ of each word\n",
        "  doc=nlp(text);\n",
        "  filtered_token=[token.lemma_ for token in doc if not token.is_stop];\n",
        "  return \" \".join(filtered_token);\n",
        "  "
      ],
      "metadata": {
        "id": "PIGhm2Ttc_lq"
      },
      "execution_count": null,
      "outputs": []
    },
    {
      "cell_type": "code",
      "source": [
        "fasttext_df['preprocessed']=fasttext_df['Comment'].apply(preprocess);"
      ],
      "metadata": {
        "id": "7ZuKbe8Fddmb"
      },
      "execution_count": null,
      "outputs": []
    },
    {
      "cell_type": "code",
      "source": [
        "fasttext_df['Emotion']=\"__label__\" + fasttext_df.Emotion.astype(str);"
      ],
      "metadata": {
        "id": "gYqZwFhsdqUH"
      },
      "execution_count": null,
      "outputs": []
    },
    {
      "cell_type": "code",
      "source": [
        "fasttext_df.Emotion.unique()"
      ],
      "metadata": {
        "id": "2mrTEWFnd1tJ",
        "outputId": "16edda4a-54a4-468f-81a2-242e842ec5ad",
        "colab": {
          "base_uri": "https://localhost:8080/"
        }
      },
      "execution_count": null,
      "outputs": [
        {
          "output_type": "execute_result",
          "data": {
            "text/plain": [
              "array(['__label__fear', '__label__anger', '__label__joy'], dtype=object)"
            ]
          },
          "metadata": {},
          "execution_count": 115
        }
      ]
    },
    {
      "cell_type": "code",
      "source": [
        "# Creating one more column to present the data format which is accepted by fasttext"
      ],
      "metadata": {
        "id": "DY-mX5szd-G-"
      },
      "execution_count": null,
      "outputs": []
    },
    {
      "cell_type": "code",
      "source": [
        "fasttext_df['data_fasttext']=fasttext_df['Emotion'] + ' ' + fasttext_df['preprocessed'];"
      ],
      "metadata": {
        "id": "Fk3wLKneekxH"
      },
      "execution_count": null,
      "outputs": []
    },
    {
      "cell_type": "code",
      "source": [
        "fasttext_df.data_fasttext.head(4)"
      ],
      "metadata": {
        "id": "7QCZMoqHexEn",
        "outputId": "d124a7ef-73c2-4563-cbcc-bd2b33538ba5",
        "colab": {
          "base_uri": "https://localhost:8080/"
        }
      },
      "execution_count": null,
      "outputs": [
        {
          "output_type": "execute_result",
          "data": {
            "text/plain": [
              "0    __label__fear seriously hate subject death fee...\n",
              "1                     __label__anger m life feel appal\n",
              "2    __label__fear sit write start dig feeling thin...\n",
              "3    __label__joy ve angry r feel like idiot trust ...\n",
              "Name: data_fasttext, dtype: object"
            ]
          },
          "metadata": {},
          "execution_count": 118
        }
      ]
    },
    {
      "cell_type": "code",
      "source": [
        "# Train test splitting the data\n",
        "X_train,X_test=train_test_split(fasttext_df.data_fasttext,test_size=0.2);\n"
      ],
      "metadata": {
        "id": "Zk6dyMi7ezs1"
      },
      "execution_count": null,
      "outputs": []
    },
    {
      "cell_type": "code",
      "source": [
        "X_train.shape"
      ],
      "metadata": {
        "id": "Y20SCn6gfN6g",
        "outputId": "d4ea816b-7b02-42b2-f85c-d5b4e6850084",
        "colab": {
          "base_uri": "https://localhost:8080/"
        }
      },
      "execution_count": null,
      "outputs": [
        {
          "output_type": "execute_result",
          "data": {
            "text/plain": [
              "(4749,)"
            ]
          },
          "metadata": {},
          "execution_count": 140
        }
      ]
    },
    {
      "cell_type": "code",
      "source": [
        "X_test.shape"
      ],
      "metadata": {
        "id": "p4-83Hv2fOZc",
        "outputId": "bbc9ccee-2aa7-4daf-a1cd-e1537e60de7c",
        "colab": {
          "base_uri": "https://localhost:8080/"
        }
      },
      "execution_count": null,
      "outputs": [
        {
          "output_type": "execute_result",
          "data": {
            "text/plain": [
              "(1188,)"
            ]
          },
          "metadata": {},
          "execution_count": 141
        }
      ]
    },
    {
      "cell_type": "code",
      "source": [
        "X_train.to_csv(\"fasttext_training.csv\",header=False,index=False);"
      ],
      "metadata": {
        "id": "mi8UFJBHfQCw"
      },
      "execution_count": null,
      "outputs": []
    },
    {
      "cell_type": "code",
      "source": [
        "X_test.to_csv(\"fasttext_testing.csv\",header=False,index=False);"
      ],
      "metadata": {
        "id": "X9tawuRnfdGK"
      },
      "execution_count": null,
      "outputs": []
    },
    {
      "cell_type": "code",
      "source": [
        "# Installing fasttext library\n",
        "\n",
        "! pip install fasttext"
      ],
      "metadata": {
        "id": "ngpvASgjgOv9",
        "outputId": "bcf0d6c9-4655-45cc-cd7f-fdaba18fc9e4",
        "colab": {
          "base_uri": "https://localhost:8080/"
        }
      },
      "execution_count": null,
      "outputs": [
        {
          "output_type": "stream",
          "name": "stdout",
          "text": [
            "Looking in indexes: https://pypi.org/simple, https://us-python.pkg.dev/colab-wheels/public/simple/\n",
            "Requirement already satisfied: fasttext in /usr/local/lib/python3.7/dist-packages (0.9.2)\n",
            "Requirement already satisfied: pybind11>=2.2 in /usr/local/lib/python3.7/dist-packages (from fasttext) (2.10.1)\n",
            "Requirement already satisfied: numpy in /usr/local/lib/python3.7/dist-packages (from fasttext) (1.21.6)\n",
            "Requirement already satisfied: setuptools>=0.7.0 in /usr/local/lib/python3.7/dist-packages (from fasttext) (57.4.0)\n"
          ]
        }
      ]
    },
    {
      "cell_type": "code",
      "source": [
        "# Training the fasttext model\n",
        "\n",
        "import fasttext\n",
        "\n",
        "model=fasttext.train_supervised(input=\"fasttext_training.csv\");"
      ],
      "metadata": {
        "id": "qnzt8GOcfhaB"
      },
      "execution_count": null,
      "outputs": []
    },
    {
      "cell_type": "code",
      "source": [
        "model.test(\"fasttext_testing.csv\")"
      ],
      "metadata": {
        "id": "-4cPKrQmgFZD",
        "outputId": "d2d299d1-5176-4666-8e9c-4989648fe0eb",
        "colab": {
          "base_uri": "https://localhost:8080/"
        }
      },
      "execution_count": null,
      "outputs": [
        {
          "output_type": "execute_result",
          "data": {
            "text/plain": [
              "(1188, 0.9191919191919192, 0.9191919191919192)"
            ]
          },
          "metadata": {},
          "execution_count": 145
        }
      ]
    },
    {
      "cell_type": "code",
      "source": [
        "# We got almost 92% percent precision and recall for the testing data set using fasttext "
      ],
      "metadata": {
        "id": "XTl9hZpWgr2a"
      },
      "execution_count": null,
      "outputs": []
    },
    {
      "cell_type": "code",
      "source": [
        "corpus=[\n",
        "    'I am frightened a lot what will happen tomorrow i have not completed the assignment . Miss.polly will eat me alive',\n",
        "    'I have spent a lovely 4 weeks holiday in switzerland . Definitely the best weeks of my life',\n",
        "    'I am too much frustrated to have your stupid service',\n",
        "    'I  have hatred for him for his past behaviour with me i hope he dies soon.I get furious when i hear his name',\n",
        "    'I got my delivery after five weeks the service offered was the most terrible service i have ever seen in my entire life',\n",
        "    'I am delighted to have your superior service thank you ',\n",
        "   \n",
        "];\n",
        "\n",
        "\n",
        "predicted=model.predict(corpus);"
      ],
      "metadata": {
        "id": "jce-e9RvhCnu"
      },
      "execution_count": null,
      "outputs": []
    },
    {
      "cell_type": "code",
      "source": [
        "predicted"
      ],
      "metadata": {
        "id": "WFWYZyl1hTvl",
        "outputId": "3de8e5e7-5e61-4076-bf8b-d4ccb4c8d6de",
        "colab": {
          "base_uri": "https://localhost:8080/"
        }
      },
      "execution_count": null,
      "outputs": [
        {
          "output_type": "execute_result",
          "data": {
            "text/plain": [
              "([['__label__fear'],\n",
              "  ['__label__joy'],\n",
              "  ['__label__anger'],\n",
              "  ['__label__anger'],\n",
              "  ['__label__joy'],\n",
              "  ['__label__joy']],\n",
              " [array([0.8134978], dtype=float32),\n",
              "  array([0.5308329], dtype=float32),\n",
              "  array([0.966038], dtype=float32),\n",
              "  array([0.5766325], dtype=float32),\n",
              "  array([0.40225565], dtype=float32),\n",
              "  array([0.6009911], dtype=float32)])"
            ]
          },
          "metadata": {},
          "execution_count": 129
        }
      ]
    },
    {
      "cell_type": "code",
      "source": [
        "print(model.predict(\"Pathetic experience! after two weeks of purchase, without installing major updates or software system crashed automatically in few minutes after a startup and showing Automatic repair could not repair your PC loop. Not able to return as it's is already been ended from Amazon side. I have purchased it as a no cost emi and for the next day delivery subscribed to prime as well. I don't know what to do, laptop still not working and i need to pay my next two EMIs.\"));"
      ],
      "metadata": {
        "id": "hxhLcNBxhU3U",
        "outputId": "f0bfef35-58e0-42eb-ce27-47c193f48f3a",
        "colab": {
          "base_uri": "https://localhost:8080/"
        }
      },
      "execution_count": null,
      "outputs": [
        {
          "output_type": "stream",
          "name": "stdout",
          "text": [
            "(('__label__anger',), array([0.38655722]))\n"
          ]
        }
      ]
    },
    {
      "cell_type": "code",
      "source": [
        "# Both SVM and fasttext have amazing performance ."
      ],
      "metadata": {
        "id": "McEZVZi4iWUv"
      },
      "execution_count": null,
      "outputs": []
    },
    {
      "cell_type": "code",
      "source": [],
      "metadata": {
        "id": "_ZGBVivAlEgD"
      },
      "execution_count": null,
      "outputs": []
    }
  ]
}