{
  "cells": [
    {
      "cell_type": "markdown",
      "metadata": {
        "id": "view-in-github",
        "colab_type": "text"
      },
      "source": [
        "<a href=\"https://colab.research.google.com/github/Darshan-Thakar/NLP_and_ML_projects/blob/main/CommentsEmotionClassifier.ipynb\" target=\"_parent\"><img src=\"https://colab.research.google.com/assets/colab-badge.svg\" alt=\"Open In Colab\"/></a>"
      ]
    },
    {
      "cell_type": "code",
      "execution_count": null,
      "metadata": {
        "colab": {
          "background_save": true
        },
        "id": "m3UYYuj0daml"
      },
      "outputs": [],
      "source": [
        "#Importing the required modules\n",
        "\n",
        "import pandas as pd;\n",
        "import numpy as np ;\n",
        "import seaborn as sns\n",
        "\n",
        "from sklearn.feature_extraction.text import CountVectorizer;\n",
        "from sklearn.feature_extraction.text import TfidfVectorizer;\n",
        "from sklearn.ensemble import RandomForestClassifier\n",
        "from sklearn.naive_bayes import MultinomialNB;\n",
        "from sklearn.svm import SVC;\n",
        "from sklearn.neighbors import KNeighborsClassifier\n",
        "from sklearn.tree import DecisionTreeClassifier;\n",
        "from sklearn.model_selection import train_test_split;\n",
        "from sklearn.metrics import confusion_matrix ;\n",
        "from sklearn.metrics import classification_report\n",
        "import spacy\n",
        "from sklearn.ensemble import BaggingClassifier;\n",
        "from sklearn.pipeline import Pipeline"
      ]
    },
    {
      "cell_type": "markdown",
      "metadata": {
        "id": "PNOINmoJgZog"
      },
      "source": [
        "**In this notebook we will try out different classification algorithms to classify comments into their respective emotions . In this commit I will try few algos and text representation techniques such as bag of words , bag of n_grams and TF-Idf. This text representation techniques do not capture the relationship between the words. In the next commit I will use different word embedding techniques as well as BERT for text representation**"
      ]
    },
    {
      "cell_type": "code",
      "execution_count": null,
      "metadata": {
        "colab": {
          "background_save": true,
          "base_uri": "https://localhost:8080/",
          "height": 206
        },
        "id": "lrGblwQ2eumL",
        "outputId": "eb323b17-16e9-4b4f-a2c5-f418adca812f"
      },
      "outputs": [
        {
          "data": {
            "text/html": [
              "\n",
              "  <div id=\"df-b2479a40-c7f6-4979-bb42-d4224dfe693f\">\n",
              "    <div class=\"colab-df-container\">\n",
              "      <div>\n",
              "<style scoped>\n",
              "    .dataframe tbody tr th:only-of-type {\n",
              "        vertical-align: middle;\n",
              "    }\n",
              "\n",
              "    .dataframe tbody tr th {\n",
              "        vertical-align: top;\n",
              "    }\n",
              "\n",
              "    .dataframe thead th {\n",
              "        text-align: right;\n",
              "    }\n",
              "</style>\n",
              "<table border=\"1\" class=\"dataframe\">\n",
              "  <thead>\n",
              "    <tr style=\"text-align: right;\">\n",
              "      <th></th>\n",
              "      <th>Comment</th>\n",
              "      <th>Emotion</th>\n",
              "    </tr>\n",
              "  </thead>\n",
              "  <tbody>\n",
              "    <tr>\n",
              "      <th>0</th>\n",
              "      <td>i seriously hate one subject to death but now ...</td>\n",
              "      <td>fear</td>\n",
              "    </tr>\n",
              "    <tr>\n",
              "      <th>1</th>\n",
              "      <td>im so full of life i feel appalled</td>\n",
              "      <td>anger</td>\n",
              "    </tr>\n",
              "    <tr>\n",
              "      <th>2</th>\n",
              "      <td>i sit here to write i start to dig out my feel...</td>\n",
              "      <td>fear</td>\n",
              "    </tr>\n",
              "    <tr>\n",
              "      <th>3</th>\n",
              "      <td>ive been really angry with r and i feel like a...</td>\n",
              "      <td>joy</td>\n",
              "    </tr>\n",
              "    <tr>\n",
              "      <th>4</th>\n",
              "      <td>i feel suspicious if there is no one outside l...</td>\n",
              "      <td>fear</td>\n",
              "    </tr>\n",
              "  </tbody>\n",
              "</table>\n",
              "</div>\n",
              "      <button class=\"colab-df-convert\" onclick=\"convertToInteractive('df-b2479a40-c7f6-4979-bb42-d4224dfe693f')\"\n",
              "              title=\"Convert this dataframe to an interactive table.\"\n",
              "              style=\"display:none;\">\n",
              "        \n",
              "  <svg xmlns=\"http://www.w3.org/2000/svg\" height=\"24px\"viewBox=\"0 0 24 24\"\n",
              "       width=\"24px\">\n",
              "    <path d=\"M0 0h24v24H0V0z\" fill=\"none\"/>\n",
              "    <path d=\"M18.56 5.44l.94 2.06.94-2.06 2.06-.94-2.06-.94-.94-2.06-.94 2.06-2.06.94zm-11 1L8.5 8.5l.94-2.06 2.06-.94-2.06-.94L8.5 2.5l-.94 2.06-2.06.94zm10 10l.94 2.06.94-2.06 2.06-.94-2.06-.94-.94-2.06-.94 2.06-2.06.94z\"/><path d=\"M17.41 7.96l-1.37-1.37c-.4-.4-.92-.59-1.43-.59-.52 0-1.04.2-1.43.59L10.3 9.45l-7.72 7.72c-.78.78-.78 2.05 0 2.83L4 21.41c.39.39.9.59 1.41.59.51 0 1.02-.2 1.41-.59l7.78-7.78 2.81-2.81c.8-.78.8-2.07 0-2.86zM5.41 20L4 18.59l7.72-7.72 1.47 1.35L5.41 20z\"/>\n",
              "  </svg>\n",
              "      </button>\n",
              "      \n",
              "  <style>\n",
              "    .colab-df-container {\n",
              "      display:flex;\n",
              "      flex-wrap:wrap;\n",
              "      gap: 12px;\n",
              "    }\n",
              "\n",
              "    .colab-df-convert {\n",
              "      background-color: #E8F0FE;\n",
              "      border: none;\n",
              "      border-radius: 50%;\n",
              "      cursor: pointer;\n",
              "      display: none;\n",
              "      fill: #1967D2;\n",
              "      height: 32px;\n",
              "      padding: 0 0 0 0;\n",
              "      width: 32px;\n",
              "    }\n",
              "\n",
              "    .colab-df-convert:hover {\n",
              "      background-color: #E2EBFA;\n",
              "      box-shadow: 0px 1px 2px rgba(60, 64, 67, 0.3), 0px 1px 3px 1px rgba(60, 64, 67, 0.15);\n",
              "      fill: #174EA6;\n",
              "    }\n",
              "\n",
              "    [theme=dark] .colab-df-convert {\n",
              "      background-color: #3B4455;\n",
              "      fill: #D2E3FC;\n",
              "    }\n",
              "\n",
              "    [theme=dark] .colab-df-convert:hover {\n",
              "      background-color: #434B5C;\n",
              "      box-shadow: 0px 1px 3px 1px rgba(0, 0, 0, 0.15);\n",
              "      filter: drop-shadow(0px 1px 2px rgba(0, 0, 0, 0.3));\n",
              "      fill: #FFFFFF;\n",
              "    }\n",
              "  </style>\n",
              "\n",
              "      <script>\n",
              "        const buttonEl =\n",
              "          document.querySelector('#df-b2479a40-c7f6-4979-bb42-d4224dfe693f button.colab-df-convert');\n",
              "        buttonEl.style.display =\n",
              "          google.colab.kernel.accessAllowed ? 'block' : 'none';\n",
              "\n",
              "        async function convertToInteractive(key) {\n",
              "          const element = document.querySelector('#df-b2479a40-c7f6-4979-bb42-d4224dfe693f');\n",
              "          const dataTable =\n",
              "            await google.colab.kernel.invokeFunction('convertToInteractive',\n",
              "                                                     [key], {});\n",
              "          if (!dataTable) return;\n",
              "\n",
              "          const docLinkHtml = 'Like what you see? Visit the ' +\n",
              "            '<a target=\"_blank\" href=https://colab.research.google.com/notebooks/data_table.ipynb>data table notebook</a>'\n",
              "            + ' to learn more about interactive tables.';\n",
              "          element.innerHTML = '';\n",
              "          dataTable['output_type'] = 'display_data';\n",
              "          await google.colab.output.renderOutput(dataTable, element);\n",
              "          const docLink = document.createElement('div');\n",
              "          docLink.innerHTML = docLinkHtml;\n",
              "          element.appendChild(docLink);\n",
              "        }\n",
              "      </script>\n",
              "    </div>\n",
              "  </div>\n",
              "  "
            ],
            "text/plain": [
              "                                             Comment Emotion\n",
              "0  i seriously hate one subject to death but now ...    fear\n",
              "1                 im so full of life i feel appalled   anger\n",
              "2  i sit here to write i start to dig out my feel...    fear\n",
              "3  ive been really angry with r and i feel like a...     joy\n",
              "4  i feel suspicious if there is no one outside l...    fear"
            ]
          },
          "execution_count": 2,
          "metadata": {},
          "output_type": "execute_result"
        }
      ],
      "source": [
        "# Let's load the data \n",
        "df=pd.read_csv(\"https://raw.githubusercontent.com/codebasics/nlp-tutorials/main/12_tf_idf/Emotion_classify_Data.csv\");\n",
        "\n",
        "# I dont want to download the dataset from kaggle so i will load it using raw github csv uploaded on codebasics github page\n",
        "\n",
        "df.head(5)"
      ]
    },
    {
      "cell_type": "code",
      "execution_count": null,
      "metadata": {
        "colab": {
          "background_save": true,
          "base_uri": "https://localhost:8080/"
        },
        "id": "e9T1cR8mh2tA",
        "outputId": "4b243a09-18db-4b5c-8afc-d8958fd6f216"
      },
      "outputs": [
        {
          "data": {
            "text/plain": [
              "(5937, 2)"
            ]
          },
          "execution_count": 3,
          "metadata": {},
          "output_type": "execute_result"
        }
      ],
      "source": [
        "df.shape"
      ]
    },
    {
      "cell_type": "code",
      "execution_count": null,
      "metadata": {
        "colab": {
          "background_save": true,
          "base_uri": "https://localhost:8080/"
        },
        "id": "qylqjd5GiAvp",
        "outputId": "c3a6766e-9802-4b76-fc63-538274416ebe"
      },
      "outputs": [
        {
          "name": "stdout",
          "output_type": "stream",
          "text": [
            "anger    2000\n",
            "joy      2000\n",
            "fear     1937\n",
            "Name: Emotion, dtype: int64\n"
          ]
        }
      ],
      "source": [
        "# The data set has 5937 rows and 2 columns\n",
        "\n",
        "# let's check if there is any imbalance in the dataset\n",
        "\n",
        "print(df.Emotion.value_counts());"
      ]
    },
    {
      "cell_type": "markdown",
      "metadata": {
        "id": "ov8KCXU3ilra"
      },
      "source": [
        "**The dataset is balanced so we don't need to apply the techniques to handle imbalanced. So, let's move on converting the labels of the dataset to numerical values**"
      ]
    },
    {
      "cell_type": "code",
      "execution_count": null,
      "metadata": {
        "colab": {
          "background_save": true,
          "base_uri": "https://localhost:8080/",
          "height": 206
        },
        "id": "UiEXhDPriSHw",
        "outputId": "7590422a-a3c7-4164-89e3-9f9d72607e20"
      },
      "outputs": [
        {
          "data": {
            "text/html": [
              "\n",
              "  <div id=\"df-55f7aa0e-4fae-4cd2-9cfd-1800bd77680c\">\n",
              "    <div class=\"colab-df-container\">\n",
              "      <div>\n",
              "<style scoped>\n",
              "    .dataframe tbody tr th:only-of-type {\n",
              "        vertical-align: middle;\n",
              "    }\n",
              "\n",
              "    .dataframe tbody tr th {\n",
              "        vertical-align: top;\n",
              "    }\n",
              "\n",
              "    .dataframe thead th {\n",
              "        text-align: right;\n",
              "    }\n",
              "</style>\n",
              "<table border=\"1\" class=\"dataframe\">\n",
              "  <thead>\n",
              "    <tr style=\"text-align: right;\">\n",
              "      <th></th>\n",
              "      <th>Comment</th>\n",
              "      <th>Emotion</th>\n",
              "    </tr>\n",
              "  </thead>\n",
              "  <tbody>\n",
              "    <tr>\n",
              "      <th>0</th>\n",
              "      <td>i seriously hate one subject to death but now ...</td>\n",
              "      <td>2</td>\n",
              "    </tr>\n",
              "    <tr>\n",
              "      <th>1</th>\n",
              "      <td>im so full of life i feel appalled</td>\n",
              "      <td>0</td>\n",
              "    </tr>\n",
              "    <tr>\n",
              "      <th>2</th>\n",
              "      <td>i sit here to write i start to dig out my feel...</td>\n",
              "      <td>2</td>\n",
              "    </tr>\n",
              "    <tr>\n",
              "      <th>3</th>\n",
              "      <td>ive been really angry with r and i feel like a...</td>\n",
              "      <td>1</td>\n",
              "    </tr>\n",
              "    <tr>\n",
              "      <th>4</th>\n",
              "      <td>i feel suspicious if there is no one outside l...</td>\n",
              "      <td>2</td>\n",
              "    </tr>\n",
              "  </tbody>\n",
              "</table>\n",
              "</div>\n",
              "      <button class=\"colab-df-convert\" onclick=\"convertToInteractive('df-55f7aa0e-4fae-4cd2-9cfd-1800bd77680c')\"\n",
              "              title=\"Convert this dataframe to an interactive table.\"\n",
              "              style=\"display:none;\">\n",
              "        \n",
              "  <svg xmlns=\"http://www.w3.org/2000/svg\" height=\"24px\"viewBox=\"0 0 24 24\"\n",
              "       width=\"24px\">\n",
              "    <path d=\"M0 0h24v24H0V0z\" fill=\"none\"/>\n",
              "    <path d=\"M18.56 5.44l.94 2.06.94-2.06 2.06-.94-2.06-.94-.94-2.06-.94 2.06-2.06.94zm-11 1L8.5 8.5l.94-2.06 2.06-.94-2.06-.94L8.5 2.5l-.94 2.06-2.06.94zm10 10l.94 2.06.94-2.06 2.06-.94-2.06-.94-.94-2.06-.94 2.06-2.06.94z\"/><path d=\"M17.41 7.96l-1.37-1.37c-.4-.4-.92-.59-1.43-.59-.52 0-1.04.2-1.43.59L10.3 9.45l-7.72 7.72c-.78.78-.78 2.05 0 2.83L4 21.41c.39.39.9.59 1.41.59.51 0 1.02-.2 1.41-.59l7.78-7.78 2.81-2.81c.8-.78.8-2.07 0-2.86zM5.41 20L4 18.59l7.72-7.72 1.47 1.35L5.41 20z\"/>\n",
              "  </svg>\n",
              "      </button>\n",
              "      \n",
              "  <style>\n",
              "    .colab-df-container {\n",
              "      display:flex;\n",
              "      flex-wrap:wrap;\n",
              "      gap: 12px;\n",
              "    }\n",
              "\n",
              "    .colab-df-convert {\n",
              "      background-color: #E8F0FE;\n",
              "      border: none;\n",
              "      border-radius: 50%;\n",
              "      cursor: pointer;\n",
              "      display: none;\n",
              "      fill: #1967D2;\n",
              "      height: 32px;\n",
              "      padding: 0 0 0 0;\n",
              "      width: 32px;\n",
              "    }\n",
              "\n",
              "    .colab-df-convert:hover {\n",
              "      background-color: #E2EBFA;\n",
              "      box-shadow: 0px 1px 2px rgba(60, 64, 67, 0.3), 0px 1px 3px 1px rgba(60, 64, 67, 0.15);\n",
              "      fill: #174EA6;\n",
              "    }\n",
              "\n",
              "    [theme=dark] .colab-df-convert {\n",
              "      background-color: #3B4455;\n",
              "      fill: #D2E3FC;\n",
              "    }\n",
              "\n",
              "    [theme=dark] .colab-df-convert:hover {\n",
              "      background-color: #434B5C;\n",
              "      box-shadow: 0px 1px 3px 1px rgba(0, 0, 0, 0.15);\n",
              "      filter: drop-shadow(0px 1px 2px rgba(0, 0, 0, 0.3));\n",
              "      fill: #FFFFFF;\n",
              "    }\n",
              "  </style>\n",
              "\n",
              "      <script>\n",
              "        const buttonEl =\n",
              "          document.querySelector('#df-55f7aa0e-4fae-4cd2-9cfd-1800bd77680c button.colab-df-convert');\n",
              "        buttonEl.style.display =\n",
              "          google.colab.kernel.accessAllowed ? 'block' : 'none';\n",
              "\n",
              "        async function convertToInteractive(key) {\n",
              "          const element = document.querySelector('#df-55f7aa0e-4fae-4cd2-9cfd-1800bd77680c');\n",
              "          const dataTable =\n",
              "            await google.colab.kernel.invokeFunction('convertToInteractive',\n",
              "                                                     [key], {});\n",
              "          if (!dataTable) return;\n",
              "\n",
              "          const docLinkHtml = 'Like what you see? Visit the ' +\n",
              "            '<a target=\"_blank\" href=https://colab.research.google.com/notebooks/data_table.ipynb>data table notebook</a>'\n",
              "            + ' to learn more about interactive tables.';\n",
              "          element.innerHTML = '';\n",
              "          dataTable['output_type'] = 'display_data';\n",
              "          await google.colab.output.renderOutput(dataTable, element);\n",
              "          const docLink = document.createElement('div');\n",
              "          docLink.innerHTML = docLinkHtml;\n",
              "          element.appendChild(docLink);\n",
              "        }\n",
              "      </script>\n",
              "    </div>\n",
              "  </div>\n",
              "  "
            ],
            "text/plain": [
              "                                             Comment  Emotion\n",
              "0  i seriously hate one subject to death but now ...        2\n",
              "1                 im so full of life i feel appalled        0\n",
              "2  i sit here to write i start to dig out my feel...        2\n",
              "3  ive been really angry with r and i feel like a...        1\n",
              "4  i feel suspicious if there is no one outside l...        2"
            ]
          },
          "execution_count": 5,
          "metadata": {},
          "output_type": "execute_result"
        }
      ],
      "source": [
        "df['Emotion']=df['Emotion'].map({\n",
        "    'anger':0,\n",
        "    'joy':1,\n",
        "    'fear':2\n",
        "    \n",
        "})\n",
        "\n",
        "df.head(5)"
      ]
    },
    {
      "cell_type": "markdown",
      "metadata": {
        "id": "UzRHxi3GjnkV"
      },
      "source": [
        "**We have finally converted the labels into numerical values . Let's preprocess the text we will remove punctuations and derive the word into it's base form by applying Lemmatization**"
      ]
    },
    {
      "cell_type": "code",
      "execution_count": null,
      "metadata": {
        "colab": {
          "background_save": true
        },
        "id": "k2fBahfYjUMc"
      },
      "outputs": [],
      "source": [
        "nlp=spacy.load(\"en_core_web_sm\");\n",
        "def preprocess(text):\n",
        "  doc=nlp(text);\n",
        "  filtered_tokens=[token.lemma_ for token in doc if not token.is_punct and not token.is_stop ];\n",
        "  return \" \".join(filtered_tokens);"
      ]
    },
    {
      "cell_type": "markdown",
      "metadata": {
        "id": "JySZW5XUkZPM"
      },
      "source": [
        "**We will apply to our pandas Comment column and will create a new column called preprocesse_comments**"
      ]
    },
    {
      "cell_type": "code",
      "execution_count": null,
      "metadata": {
        "id": "XnP4fdVxjh6A"
      },
      "outputs": [],
      "source": [
        "df['preprocessed_comments']=df.Comment.apply(preprocess);"
      ]
    },
    {
      "cell_type": "code",
      "execution_count": null,
      "metadata": {
        "id": "HvqB4ZhcWkWq"
      },
      "outputs": [],
      "source": [
        "X_train,X_test,Y_train,Y_test=train_test_split(df.preprocessed_comments,df.Emotion,test_size=0.2,random_state=2022);"
      ]
    },
    {
      "cell_type": "markdown",
      "metadata": {
        "id": "WyjE4R7IVFxk"
      },
      "source": [
        "**Building sklearn pipleline and using tfidf as a text representation**"
      ]
    },
    {
      "cell_type": "code",
      "execution_count": null,
      "metadata": {
        "id": "JeFpwxLolMGc"
      },
      "outputs": [],
      "source": [
        "multinomial_nb=Pipeline([\n",
        "    ('vectorizer',TfidfVectorizer()),\n",
        "    ('model',MultinomialNB())\n",
        "])"
      ]
    },
    {
      "cell_type": "code",
      "execution_count": null,
      "metadata": {
        "colab": {
          "base_uri": "https://localhost:8080/"
        },
        "id": "CVnTfdAMWV9I",
        "outputId": "9649c975-ccc9-4197-a851-81030c77b7d3"
      },
      "outputs": [
        {
          "name": "stdout",
          "output_type": "stream",
          "text": [
            "              precision    recall  f1-score   support\n",
            "\n",
            "           0       0.91      0.89      0.90       407\n",
            "           1       0.93      0.91      0.92       400\n",
            "           2       0.89      0.93      0.91       381\n",
            "\n",
            "    accuracy                           0.91      1188\n",
            "   macro avg       0.91      0.91      0.91      1188\n",
            "weighted avg       0.91      0.91      0.91      1188\n",
            "\n"
          ]
        }
      ],
      "source": [
        "\n",
        "multinomial_nb.fit(X_train,Y_train);\n",
        "y_pred_multinomial_nb=multinomial_nb.predict(X_test);\n",
        "report_multinomial=classification_report(Y_test,y_pred_multinomial_nb);\n",
        "print(report_multinomial)"
      ]
    },
    {
      "cell_type": "code",
      "execution_count": null,
      "metadata": {
        "colab": {
          "base_uri": "https://localhost:8080/"
        },
        "id": "HSyQfJGlmw-O",
        "outputId": "19c7baba-6973-4d8b-d78a-a036d8164119"
      },
      "outputs": [
        {
          "name": "stdout",
          "output_type": "stream",
          "text": [
            "['Fear', 'Joy', 'Anger', 'Anger', 'Anger', 'Joy']\n"
          ]
        }
      ],
      "source": [
        "corpus=[\n",
        "    'I am frightened a lot what will happen tomorrow i have not completed the assignment . Miss.polly will eat me alive',\n",
        "    'I have spent a lovely 4 weeks of holiday in switzerland . Definitely the best weeks of my life',\n",
        "    'I am too much frustrated to have your stupid service',\n",
        "    'I have hatred for him for his past behaviour with me i hope he dies soon.I get furious when i hear his name',\n",
        "     'I got my delivery after five weeks the service offered was the most terrible service i have ever seen in my entire life',\n",
        "     'I am delighted to have your superior service thank you ',\n",
        "     \n",
        "];\n",
        "\n",
        "\n",
        "predictions=[];\n",
        "for i in multinomial_nb.predict(corpus):\n",
        "  if(i==0):\n",
        "    predictions.append('Anger');\n",
        "  elif i==1:\n",
        "    predictions.append('Joy');\n",
        "  else:\n",
        "    predictions.append('Fear')    \n",
        "\n",
        "\n",
        "print(predictions)"
      ]
    },
    {
      "cell_type": "code",
      "execution_count": null,
      "metadata": {
        "id": "31oe62EFmw7u"
      },
      "outputs": [],
      "source": []
    },
    {
      "cell_type": "code",
      "execution_count": null,
      "metadata": {
        "colab": {
          "base_uri": "https://localhost:8080/"
        },
        "id": "LbTSEL4rXKHD",
        "outputId": "532e1b1f-7002-43ab-a7b0-70d7da8f213b"
      },
      "outputs": [
        {
          "name": "stdout",
          "output_type": "stream",
          "text": [
            "              precision    recall  f1-score   support\n",
            "\n",
            "           0       0.92      0.91      0.92       407\n",
            "           1       0.90      0.94      0.92       400\n",
            "           2       0.94      0.90      0.92       381\n",
            "\n",
            "    accuracy                           0.92      1188\n",
            "   macro avg       0.92      0.92      0.92      1188\n",
            "weighted avg       0.92      0.92      0.92      1188\n",
            "\n"
          ]
        }
      ],
      "source": [
        "random_forest=Pipeline([\n",
        "    ('vectorizer',TfidfVectorizer()),\n",
        "    ('model',RandomForestClassifier(n_estimators=25,criterion='gini'))\n",
        "        \n",
        "    \n",
        "]);\n",
        "random_forest.fit(X_train,Y_train);\n",
        "y_pred_forest=random_forest.predict(X_test);\n",
        "classificaton_report_forest=classification_report(Y_test,y_pred_forest);\n",
        "print(classificaton_report_forest);\n"
      ]
    },
    {
      "cell_type": "code",
      "execution_count": null,
      "metadata": {
        "colab": {
          "base_uri": "https://localhost:8080/"
        },
        "id": "zp9tYVR7mkxq",
        "outputId": "cee0c0f8-cc81-4f60-d90b-12c46a3c51da"
      },
      "outputs": [
        {
          "name": "stdout",
          "output_type": "stream",
          "text": [
            "['Fear', 'Anger', 'Anger', 'Anger', 'Anger', 'Joy']\n"
          ]
        }
      ],
      "source": [
        "corpus=[\n",
        "    'I am frightened a lot what will happen tomorrow i have not completed the assignment . Miss.polly will eat me alive',\n",
        "    'I have spent a lovely 4 weeks of holiday in switzerland . Definitely the best weeks of my life',\n",
        "    'I am too much frustrated to have your stupid service',\n",
        "    'I have hatred for him for his past behaviour with me i hope he dies soon.I get furious when i hear his name',\n",
        "     'I got my delivery after five weeks the service offered was the most terrible service i have ever seen in my entire life',\n",
        "     'I am delighted to have your superior service thank you ',\n",
        "     \n",
        "];\n",
        "\n",
        "\n",
        "predictions=[];\n",
        "for i in random_forest.predict(corpus):\n",
        "  if(i==0):\n",
        "    predictions.append('Anger');\n",
        "  elif i==1:\n",
        "    predictions.append('Joy');\n",
        "  else:\n",
        "    predictions.append('Fear')    \n",
        "\n",
        "\n",
        "print(predictions)"
      ]
    },
    {
      "cell_type": "markdown",
      "metadata": {
        "id": "sH-bB-86Zq37"
      },
      "source": [
        "**As we can see in terms of both precision ,recall and f1-score random forest performs better than multinomial naive_bayes**"
      ]
    },
    {
      "cell_type": "markdown",
      "metadata": {
        "id": "J13Nbl2XavQi"
      },
      "source": [
        "***Now let's try SVM(support vector machines) and see how it performs***"
      ]
    },
    {
      "cell_type": "code",
      "execution_count": null,
      "metadata": {
        "id": "NVzluorXZpsq"
      },
      "outputs": [],
      "source": [
        "svm=Pipeline([\n",
        "    ('vectorizer',TfidfVectorizer()),\n",
        "    ('model',SVC(kernel='linear',C=0.9))\n",
        "]);"
      ]
    },
    {
      "cell_type": "code",
      "execution_count": null,
      "metadata": {
        "colab": {
          "base_uri": "https://localhost:8080/"
        },
        "id": "H0qUp06sZHh1",
        "outputId": "aba9c6f9-edac-491a-e308-3a4ff64c2c1b"
      },
      "outputs": [
        {
          "name": "stdout",
          "output_type": "stream",
          "text": [
            "              precision    recall  f1-score   support\n",
            "\n",
            "           0       0.93      0.93      0.93       407\n",
            "           1       0.93      0.95      0.94       400\n",
            "           2       0.94      0.93      0.93       381\n",
            "\n",
            "    accuracy                           0.94      1188\n",
            "   macro avg       0.94      0.94      0.94      1188\n",
            "weighted avg       0.94      0.94      0.94      1188\n",
            "\n"
          ]
        }
      ],
      "source": [
        "svm.fit(X_train,Y_train);\n",
        "y_pred_svm=svm.predict(X_test);\n",
        "report_svm=classification_report(Y_test,y_pred_svm);\n",
        "print(report_svm);"
      ]
    },
    {
      "cell_type": "code",
      "execution_count": null,
      "metadata": {
        "colab": {
          "base_uri": "https://localhost:8080/"
        },
        "id": "ZrpzEzSfbq-z",
        "outputId": "11f15ebd-87b7-4d25-da80-290ddc18a7df"
      },
      "outputs": [
        {
          "name": "stdout",
          "output_type": "stream",
          "text": [
            "['Fear', 'Joy', 'Anger', 'Anger', 'Anger', 'Joy']\n"
          ]
        }
      ],
      "source": [
        "corpus=[\n",
        "    'I am frightened a lot what will happen tomorrow i have not completed the assignment . Miss.polly will eat me alive',\n",
        "    'I have spent a lovely 4 weeks of holiday in switzerland . Definitely the best weeks of my life',\n",
        "    'I am too much frustrated to have your stupid service',\n",
        "    'I have hatred for him for his past behaviour with me i hope he dies soon.I get furious when i hear his name',\n",
        "     'I got my delivery after five weeks the service offered was the most terrible service i have ever seen in my entire life',\n",
        "     'I am delighted to have your superior service thank you ',\n",
        "     \n",
        "];\n",
        "\n",
        "\n",
        "predictions=[];\n",
        "for i in svm.predict(corpus):\n",
        "  if(i==0):\n",
        "    predictions.append('Anger');\n",
        "  elif i==1:\n",
        "    predictions.append('Joy');\n",
        "  else:\n",
        "    predictions.append('Fear')    \n",
        "\n",
        "\n",
        "print(predictions)"
      ]
    },
    {
      "cell_type": "code",
      "execution_count": null,
      "metadata": {
        "id": "PFcdrkeccCRG"
      },
      "outputs": [],
      "source": [
        "decisionTree=Pipeline([\n",
        "    ('vectorizer',TfidfVectorizer()),\n",
        "    ('model',BaggingClassifier(base_estimator=DecisionTreeClassifier(),n_estimators=25,random_state=2022))\n",
        "])"
      ]
    },
    {
      "cell_type": "code",
      "execution_count": null,
      "metadata": {
        "colab": {
          "base_uri": "https://localhost:8080/"
        },
        "id": "5Qk_ne6gjn8h",
        "outputId": "fab42921-c407-46f5-9e3d-64bb048e58d2"
      },
      "outputs": [
        {
          "name": "stdout",
          "output_type": "stream",
          "text": [
            "              precision    recall  f1-score   support\n",
            "\n",
            "           0       0.94      0.92      0.93       407\n",
            "           1       0.94      0.95      0.95       400\n",
            "           2       0.94      0.94      0.94       381\n",
            "\n",
            "    accuracy                           0.94      1188\n",
            "   macro avg       0.94      0.94      0.94      1188\n",
            "weighted avg       0.94      0.94      0.94      1188\n",
            "\n"
          ]
        }
      ],
      "source": [
        "decisionTree.fit(X_train,Y_train);\n",
        "y_pred=decisionTree.predict(X_test);\n",
        "report_decisionTree=classification_report(Y_test,y_pred);\n",
        "print(report_decisionTree)"
      ]
    },
    {
      "cell_type": "code",
      "execution_count": null,
      "metadata": {
        "colab": {
          "base_uri": "https://localhost:8080/"
        },
        "id": "eJfzZ9lHj9RZ",
        "outputId": "a664098b-170f-4a28-86a6-4ddddbce27b6"
      },
      "outputs": [
        {
          "name": "stdout",
          "output_type": "stream",
          "text": [
            "['Fear', 'Anger', 'Anger', 'Anger', 'Anger', 'Anger']\n"
          ]
        }
      ],
      "source": [
        "corpus=[\n",
        "    'I am frightened a lot what will happen tomorrow i have not completed the assignment . Miss.polly will eat me alive',\n",
        "    'I have spent a lovely 4 weeks holiday in switzerland . Definitely the best weeks of my life',\n",
        "    'I am too much frustrated to have your stupid service',\n",
        "    'I  have hatred for him for his past behaviour with me i hope he dies soon.I get furious when i hear his name',\n",
        "    'I got my delivery after five weeks the service offered was the most terrible service i have ever seen in my entire life',\n",
        "    'I am delighted to have your superior service thank you ',\n",
        "   \n",
        "];\n",
        "\n",
        "\n",
        "predictions=[];\n",
        "for i in decisionTree.predict(corpus):\n",
        "  if(i==0):\n",
        "    predictions.append('Anger');\n",
        "  elif i==1:\n",
        "    predictions.append('Joy');\n",
        "  else:\n",
        "    predictions.append('Fear')    \n",
        "\n",
        "\n",
        "print(predictions)"
      ]
    },
    {
      "cell_type": "markdown",
      "metadata": {
        "id": "e7sKQE3Yl5ki"
      },
      "source": [
        "**Till now our SVM models performs the best of all the models Note:- I have not tried out many different parameters . But you can use different hyperparameter tuning techniques such randomizedSearchCV, GridSearchCV to find the best parameters**"
      ]
    },
    {
      "cell_type": "markdown",
      "metadata": {
        "id": "5RGBxL78r61b"
      },
      "source": [
        "**Let's have a look at the confusion matrix of our svm model**\n",
        "\n",
        "\n"
      ]
    },
    {
      "cell_type": "code",
      "execution_count": null,
      "metadata": {
        "colab": {
          "base_uri": "https://localhost:8080/",
          "height": 282
        },
        "id": "OJcEGHP_kTd6",
        "outputId": "cfbb7e72-c8b9-4e74-8495-821cf15f80e6"
      },
      "outputs": [
        {
          "data": {
            "text/plain": [
              "<matplotlib.axes._subplots.AxesSubplot at 0x7f9b75b50d90>"
            ]
          },
          "execution_count": 35,
          "metadata": {},
          "output_type": "execute_result"
        },
        {
          "data": {
            "image/png": "[encoded data removed]",
            "text/plain": [
              "<Figure size 432x288 with 2 Axes>"
            ]
          },
          "metadata": {},
          "output_type": "display_data"
        }
      ],
      "source": [
        "cm=confusion_matrix(Y_test,y_pred_svm);\n",
        "\n",
        "sns.heatmap(cm, annot=True,fmt='d')"
      ]
    },
    {
      "cell_type": "markdown",
      "metadata": {
        "id": "C6DWtOOvFIRY"
      },
      "source": [
        "**Now we will train the models after getting the text representation by using word embeddings.As Tf-Idf and bag of words are unable to capture the meanings of the word and cannot handle oov(Out of vocabulary) problem.We will now use spacy to get word embeddings**"
      ]
    },
    {
      "cell_type": "code",
      "execution_count": null,
      "metadata": {
        "colab": {
          "base_uri": "https://localhost:8080/"
        },
        "id": "vZ6pb7DRMXNv",
        "outputId": "97b598e9-865b-4841-fb10-216f32e5a3a5"
      },
      "outputs": [
        {
          "name": "stdout",
          "output_type": "stream",
          "text": [
            "\u001b[38;5;2m✔ Download and installation successful\u001b[0m\n",
            "You can now load the package via spacy.load('en_core_web_lg')\n"
          ]
        }
      ],
      "source": [
        "import spacy.cli\n",
        "spacy.cli.download(\"en_core_web_lg\");\n",
        "\n"
      ]
    },
    {
      "cell_type": "code",
      "execution_count": null,
      "metadata": {
        "id": "e-W8dmy7S1LZ"
      },
      "outputs": [],
      "source": [
        "nlp=spacy.load(\"en_core_web_lg\");"
      ]
    },
    {
      "cell_type": "code",
      "execution_count": null,
      "metadata": {
        "id": "-67Vp5b_onTg"
      },
      "outputs": [],
      "source": [
        "\n",
        "def preprocess_and_vectorize(text):\n",
        "  document=nlp(text);\n",
        "  filtered_tokens=[token.lemma_ for token in document if not token.is_stop and not token.is_punct];\n",
        "  preprocessed_text=\" \".join(filtered_tokens);\n",
        "  return nlp(preprocessed_text).vector;\n",
        "\n",
        "df['word_embeddings']=df['Comment'].apply(preprocess_and_vectorize);"
      ]
    },
    {
      "cell_type": "code",
      "execution_count": null,
      "metadata": {
        "colab": {
          "base_uri": "https://localhost:8080/"
        },
        "id": "nLGL8l1rpCzQ",
        "outputId": "aae4123e-1739-46da-fca7-ddacea6b1f10"
      },
      "outputs": [
        {
          "data": {
            "text/plain": [
              "(300,)"
            ]
          },
          "execution_count": 39,
          "metadata": {},
          "output_type": "execute_result"
        }
      ],
      "source": [
        "df['word_embeddings'][0].shape"
      ]
    },
    {
      "cell_type": "markdown",
      "metadata": {
        "id": "wfMpdEejUhSv"
      },
      "source": [
        "**Our each embedding of the sentence is of dimension 300.We get embeddings of the sentence by finding the mean vector of all the embeddings of the tokens in a  sentence.**"
      ]
    },
    {
      "cell_type": "code",
      "execution_count": null,
      "metadata": {
        "colab": {
          "base_uri": "https://localhost:8080/",
          "height": 239
        },
        "id": "qC6mpJiDUO-4",
        "outputId": "4a98f556-5fa4-4f57-b405-fee554569222"
      },
      "outputs": [
        {
          "data": {
            "text/html": [
              "\n",
              "  <div id=\"df-eb8a2aad-fd5c-43cd-b92f-49bffb891ab8\">\n",
              "    <div class=\"colab-df-container\">\n",
              "      <div>\n",
              "<style scoped>\n",
              "    .dataframe tbody tr th:only-of-type {\n",
              "        vertical-align: middle;\n",
              "    }\n",
              "\n",
              "    .dataframe tbody tr th {\n",
              "        vertical-align: top;\n",
              "    }\n",
              "\n",
              "    .dataframe thead th {\n",
              "        text-align: right;\n",
              "    }\n",
              "</style>\n",
              "<table border=\"1\" class=\"dataframe\">\n",
              "  <thead>\n",
              "    <tr style=\"text-align: right;\">\n",
              "      <th></th>\n",
              "      <th>Comment</th>\n",
              "      <th>Emotion</th>\n",
              "      <th>preprocessed_comments</th>\n",
              "      <th>word_embeddings</th>\n",
              "    </tr>\n",
              "  </thead>\n",
              "  <tbody>\n",
              "    <tr>\n",
              "      <th>0</th>\n",
              "      <td>i seriously hate one subject to death but now ...</td>\n",
              "      <td>2</td>\n",
              "      <td>seriously hate subject death feel reluctant drop</td>\n",
              "      <td>[0.23427427, -0.18293425, -2.0742915, -1.76109...</td>\n",
              "    </tr>\n",
              "    <tr>\n",
              "      <th>1</th>\n",
              "      <td>im so full of life i feel appalled</td>\n",
              "      <td>0</td>\n",
              "      <td>m life feel appal</td>\n",
              "      <td>[-0.18391502, -2.1977448, -2.836125, -3.996749...</td>\n",
              "    </tr>\n",
              "    <tr>\n",
              "      <th>2</th>\n",
              "      <td>i sit here to write i start to dig out my feel...</td>\n",
              "      <td>2</td>\n",
              "      <td>sit write start dig feeling think afraid accep...</td>\n",
              "      <td>[0.990039, 2.0657575, -1.9255166, -0.9510855, ...</td>\n",
              "    </tr>\n",
              "  </tbody>\n",
              "</table>\n",
              "</div>\n",
              "      <button class=\"colab-df-convert\" onclick=\"convertToInteractive('df-eb8a2aad-fd5c-43cd-b92f-49bffb891ab8')\"\n",
              "              title=\"Convert this dataframe to an interactive table.\"\n",
              "              style=\"display:none;\">\n",
              "        \n",
              "  <svg xmlns=\"http://www.w3.org/2000/svg\" height=\"24px\"viewBox=\"0 0 24 24\"\n",
              "       width=\"24px\">\n",
              "    <path d=\"M0 0h24v24H0V0z\" fill=\"none\"/>\n",
              "    <path d=\"M18.56 5.44l.94 2.06.94-2.06 2.06-.94-2.06-.94-.94-2.06-.94 2.06-2.06.94zm-11 1L8.5 8.5l.94-2.06 2.06-.94-2.06-.94L8.5 2.5l-.94 2.06-2.06.94zm10 10l.94 2.06.94-2.06 2.06-.94-2.06-.94-.94-2.06-.94 2.06-2.06.94z\"/><path d=\"M17.41 7.96l-1.37-1.37c-.4-.4-.92-.59-1.43-.59-.52 0-1.04.2-1.43.59L10.3 9.45l-7.72 7.72c-.78.78-.78 2.05 0 2.83L4 21.41c.39.39.9.59 1.41.59.51 0 1.02-.2 1.41-.59l7.78-7.78 2.81-2.81c.8-.78.8-2.07 0-2.86zM5.41 20L4 18.59l7.72-7.72 1.47 1.35L5.41 20z\"/>\n",
              "  </svg>\n",
              "      </button>\n",
              "      \n",
              "  <style>\n",
              "    .colab-df-container {\n",
              "      display:flex;\n",
              "      flex-wrap:wrap;\n",
              "      gap: 12px;\n",
              "    }\n",
              "\n",
              "    .colab-df-convert {\n",
              "      background-color: #E8F0FE;\n",
              "      border: none;\n",
              "      border-radius: 50%;\n",
              "      cursor: pointer;\n",
              "      display: none;\n",
              "      fill: #1967D2;\n",
              "      height: 32px;\n",
              "      padding: 0 0 0 0;\n",
              "      width: 32px;\n",
              "    }\n",
              "\n",
              "    .colab-df-convert:hover {\n",
              "      background-color: #E2EBFA;\n",
              "      box-shadow: 0px 1px 2px rgba(60, 64, 67, 0.3), 0px 1px 3px 1px rgba(60, 64, 67, 0.15);\n",
              "      fill: #174EA6;\n",
              "    }\n",
              "\n",
              "    [theme=dark] .colab-df-convert {\n",
              "      background-color: #3B4455;\n",
              "      fill: #D2E3FC;\n",
              "    }\n",
              "\n",
              "    [theme=dark] .colab-df-convert:hover {\n",
              "      background-color: #434B5C;\n",
              "      box-shadow: 0px 1px 3px 1px rgba(0, 0, 0, 0.15);\n",
              "      filter: drop-shadow(0px 1px 2px rgba(0, 0, 0, 0.3));\n",
              "      fill: #FFFFFF;\n",
              "    }\n",
              "  </style>\n",
              "\n",
              "      <script>\n",
              "        const buttonEl =\n",
              "          document.querySelector('#df-eb8a2aad-fd5c-43cd-b92f-49bffb891ab8 button.colab-df-convert');\n",
              "        buttonEl.style.display =\n",
              "          google.colab.kernel.accessAllowed ? 'block' : 'none';\n",
              "\n",
              "        async function convertToInteractive(key) {\n",
              "          const element = document.querySelector('#df-eb8a2aad-fd5c-43cd-b92f-49bffb891ab8');\n",
              "          const dataTable =\n",
              "            await google.colab.kernel.invokeFunction('convertToInteractive',\n",
              "                                                     [key], {});\n",
              "          if (!dataTable) return;\n",
              "\n",
              "          const docLinkHtml = 'Like what you see? Visit the ' +\n",
              "            '<a target=\"_blank\" href=https://colab.research.google.com/notebooks/data_table.ipynb>data table notebook</a>'\n",
              "            + ' to learn more about interactive tables.';\n",
              "          element.innerHTML = '';\n",
              "          dataTable['output_type'] = 'display_data';\n",
              "          await google.colab.output.renderOutput(dataTable, element);\n",
              "          const docLink = document.createElement('div');\n",
              "          docLink.innerHTML = docLinkHtml;\n",
              "          element.appendChild(docLink);\n",
              "        }\n",
              "      </script>\n",
              "    </div>\n",
              "  </div>\n",
              "  "
            ],
            "text/plain": [
              "                                             Comment  Emotion  \\\n",
              "0  i seriously hate one subject to death but now ...        2   \n",
              "1                 im so full of life i feel appalled        0   \n",
              "2  i sit here to write i start to dig out my feel...        2   \n",
              "\n",
              "                               preprocessed_comments  \\\n",
              "0   seriously hate subject death feel reluctant drop   \n",
              "1                                  m life feel appal   \n",
              "2  sit write start dig feeling think afraid accep...   \n",
              "\n",
              "                                     word_embeddings  \n",
              "0  [0.23427427, -0.18293425, -2.0742915, -1.76109...  \n",
              "1  [-0.18391502, -2.1977448, -2.836125, -3.996749...  \n",
              "2  [0.990039, 2.0657575, -1.9255166, -0.9510855, ...  "
            ]
          },
          "execution_count": 40,
          "metadata": {},
          "output_type": "execute_result"
        }
      ],
      "source": [
        "df.head(3)"
      ]
    },
    {
      "cell_type": "markdown",
      "metadata": {
        "id": "FuoRj61mW1uY"
      },
      "source": [
        "**Let's do the train test splitting**"
      ]
    },
    {
      "cell_type": "code",
      "execution_count": null,
      "metadata": {
        "id": "x1qQFELrXTFb"
      },
      "outputs": [],
      "source": [
        "X_train,X_test,Y_train,Y_test=train_test_split(df['word_embeddings'],df.Emotion,test_size=0.2,random_state=2022);\n",
        "\n",
        "X_train=np.stack(X_train);\n",
        "X_test=np.stack(X_test);"
      ]
    },
    {
      "cell_type": "markdown",
      "metadata": {
        "id": "e76BE5kcVauf"
      },
      "source": [
        " **We will use now train the multinomial naive bayes model using the sentence embeddings generated. But multinomial naive bayes cannot handle negatives so we will scale the embeddings.Let's use sklearn pipeline to achieve the same**"
      ]
    },
    {
      "cell_type": "code",
      "execution_count": null,
      "metadata": {
        "colab": {
          "base_uri": "https://localhost:8080/"
        },
        "id": "9mKe2oztVJgm",
        "outputId": "a403a67f-1470-4430-cfac-517a2a8a2c0e"
      },
      "outputs": [
        {
          "data": {
            "text/plain": [
              "Pipeline(steps=[('Scaler', MinMaxScaler()), ('model', MultinomialNB())])"
            ]
          },
          "execution_count": 42,
          "metadata": {},
          "output_type": "execute_result"
        }
      ],
      "source": [
        "from sklearn.preprocessing import MinMaxScaler\n",
        "\n",
        "multinomial_nb=Pipeline([\n",
        "    \n",
        "    ('Scaler',MinMaxScaler()),\n",
        "    ('model',MultinomialNB())\n",
        "\n",
        "])\n",
        "\n",
        "multinomial_nb.fit(X_train,Y_train)\n"
      ]
    },
    {
      "cell_type": "code",
      "execution_count": null,
      "metadata": {
        "id": "g2taqwgaXi1G"
      },
      "outputs": [],
      "source": [
        "y_pred_multinomial_nb=multinomial_nb.predict(X_test);\n",
        "cr_nb=classification_report(Y_test,y_pred_multinomial_nb);"
      ]
    },
    {
      "cell_type": "markdown",
      "metadata": {
        "id": "E7qaaEV-VwNR"
      },
      "source": [
        "***Classification report of multinomial naive bayes***"
      ]
    },
    {
      "cell_type": "code",
      "execution_count": null,
      "metadata": {
        "colab": {
          "base_uri": "https://localhost:8080/"
        },
        "id": "E9iqXqbMVrgS",
        "outputId": "eb18a7b5-6bb0-49ed-8475-135b83a6f9d2"
      },
      "outputs": [
        {
          "name": "stdout",
          "output_type": "stream",
          "text": [
            "              precision    recall  f1-score   support\n",
            "\n",
            "           0       0.54      0.58      0.56       407\n",
            "           1       0.55      0.70      0.62       400\n",
            "           2       0.50      0.31      0.38       381\n",
            "\n",
            "    accuracy                           0.54      1188\n",
            "   macro avg       0.53      0.53      0.52      1188\n",
            "weighted avg       0.53      0.54      0.52      1188\n",
            "\n"
          ]
        }
      ],
      "source": [
        "print(cr_nb)"
      ]
    },
    {
      "cell_type": "code",
      "execution_count": null,
      "metadata": {
        "id": "fRBbkDiHVun8"
      },
      "outputs": [],
      "source": [
        "random_forest=Pipeline(\n",
        "    [\n",
        "        ('model',RandomForestClassifier(n_estimators=25,criterion='gini'))\n",
        "    ]\n",
        ")"
      ]
    },
    {
      "cell_type": "code",
      "execution_count": null,
      "metadata": {
        "id": "gqSdrAWVWM7Q"
      },
      "outputs": [],
      "source": [
        "random_forest.fit(X_train,Y_train);"
      ]
    },
    {
      "cell_type": "code",
      "execution_count": null,
      "metadata": {
        "colab": {
          "base_uri": "https://localhost:8080/"
        },
        "id": "n1CNP_YBWQOj",
        "outputId": "b55fbfd0-7cdd-4b1c-ca0c-169ff26959d2"
      },
      "outputs": [
        {
          "name": "stdout",
          "output_type": "stream",
          "text": [
            "              precision    recall  f1-score   support\n",
            "\n",
            "           0       0.54      0.60      0.57       407\n",
            "           1       0.61      0.67      0.64       400\n",
            "           2       0.50      0.39      0.44       381\n",
            "\n",
            "    accuracy                           0.56      1188\n",
            "   macro avg       0.55      0.55      0.55      1188\n",
            "weighted avg       0.55      0.56      0.55      1188\n",
            "\n"
          ]
        }
      ],
      "source": [
        "y_pred_rf=random_forest.predict(X_test);\n",
        "cr_rf=classification_report(Y_test,y_pred_rf);\n",
        "print(cr_rf);"
      ]
    },
    {
      "cell_type": "code",
      "execution_count": null,
      "metadata": {
        "colab": {
          "base_uri": "https://localhost:8080/"
        },
        "id": "XJG0ICCKWbgf",
        "outputId": "176fdab0-466c-43e0-e123-944e82f64f5f"
      },
      "outputs": [
        {
          "name": "stdout",
          "output_type": "stream",
          "text": [
            "              precision    recall  f1-score   support\n",
            "\n",
            "           0       0.45      0.65      0.53       407\n",
            "           1       0.60      0.45      0.51       400\n",
            "           2       0.44      0.34      0.38       381\n",
            "\n",
            "    accuracy                           0.48      1188\n",
            "   macro avg       0.49      0.48      0.48      1188\n",
            "weighted avg       0.50      0.48      0.48      1188\n",
            "\n"
          ]
        }
      ],
      "source": [
        "knn=KNeighborsClassifier(n_neighbors=5);\n",
        "knn.fit(X_train,Y_train);\n",
        "y_pred=knn.predict(X_test);\n",
        "cr_knn=classification_report(Y_test,y_pred);\n",
        "print(cr_knn)"
      ]
    },
    {
      "cell_type": "markdown",
      "metadata": {
        "id": "pLtk0XSNgLad"
      },
      "source": [
        "**We will save the svm which gave us best results.**"
      ]
    },
    {
      "cell_type": "code",
      "execution_count": null,
      "metadata": {
        "id": "IwgwdaGeX397"
      },
      "outputs": [],
      "source": [
        "import pickle\n",
        "\n",
        "with open(\"emotions_model\",\"wb\") as fb:\n",
        "  pickle.dump(svm,fb);\n"
      ]
    },
    {
      "cell_type": "code",
      "execution_count": null,
      "metadata": {
        "id": "g9F6v7Q7Wv_3"
      },
      "outputs": [],
      "source": []
    },
    {
      "cell_type": "code",
      "execution_count": null,
      "metadata": {
        "id": "4w03SkDqaORp"
      },
      "outputs": [],
      "source": []
    },
    {
      "cell_type": "code",
      "execution_count": null,
      "metadata": {
        "id": "evOvbJdCaP1d"
      },
      "outputs": [],
      "source": []
    },
    {
      "cell_type": "code",
      "execution_count": null,
      "metadata": {
        "id": "XCksNkQ9bhg1"
      },
      "outputs": [],
      "source": []
    },
    {
      "cell_type": "code",
      "execution_count": null,
      "metadata": {
        "id": "CgN5PSBbbiXJ"
      },
      "outputs": [],
      "source": []
    },
    {
      "cell_type": "code",
      "execution_count": null,
      "metadata": {
        "id": "PIGhm2Ttc_lq"
      },
      "outputs": [],
      "source": []
    },
    {
      "cell_type": "code",
      "execution_count": null,
      "metadata": {
        "id": "7ZuKbe8Fddmb"
      },
      "outputs": [],
      "source": []
    }
  ],
  "metadata": {
    "colab": {
      "collapsed_sections": [],
      "provenance": [],
      "authorship_tag": "ABX9TyPmDrXQWUc13ke1q2myDp3F",
      "include_colab_link": true
    },
    "kernelspec": {
      "display_name": "Python 3",
      "name": "python3"
    },
    "language_info": {
      "name": "python"
    }
  },
  "nbformat": 4,
  "nbformat_minor": 0
}