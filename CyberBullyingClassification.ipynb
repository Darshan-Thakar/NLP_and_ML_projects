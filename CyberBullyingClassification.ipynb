{
  "cells": [
    {
      "cell_type": "markdown",
      "metadata": {
        "id": "view-in-github",
        "colab_type": "text"
      },
      "source": [
        "<a href=\"https://colab.research.google.com/github/Darshan-Thakar/NLP_and_ML_projects/blob/main/CyberBullyingClassification.ipynb\" target=\"_parent\"><img src=\"https://colab.research.google.com/assets/colab-badge.svg\" alt=\"Open In Colab\"/></a>"
      ]
    },
    {
      "cell_type": "markdown",
      "metadata": {
        "id": "fUf2uqQ43CX6"
      },
      "source": [
        "***Due to the rise of social media platforms . The cases of cyberbullying are increasing day by day.And due to it's heavy use in each age group. It is crucial to reduce cyberbullying to an extent.Hence, we will build smart models to try to prevent it.***"
      ]
    },
    {
      "cell_type": "code",
      "execution_count": 7,
      "metadata": {
        "id": "SPpxF3AlwmBY"
      },
      "outputs": [],
      "source": [
        "# Importing the required packages\n",
        "import sklearn\n",
        "from sklearn.metrics import classification_report\n",
        "from sklearn.metrics import confusion_matrix\n",
        "import spacy\n",
        "import numpy as np\n",
        "import pandas as pd"
      ]
    },
    {
      "cell_type": "code",
      "execution_count": 8,
      "metadata": {
        "id": "X5-vmjkfyy74"
      },
      "outputs": [],
      "source": [
        "df=pd.read_csv(\"cyberbullying_tweets.csv\");"
      ]
    },
    {
      "cell_type": "code",
      "execution_count": 9,
      "metadata": {
        "colab": {
          "base_uri": "https://localhost:8080/",
          "height": 175
        },
        "id": "2IisgNtZy4EQ",
        "outputId": "11b0c56e-0642-42e7-eea4-cb9156e0abf1"
      },
      "outputs": [
        {
          "output_type": "execute_result",
          "data": {
            "text/plain": [
              "                                          tweet_text cyberbullying_type\n",
              "0  In other words #katandandre, your food was cra...  not_cyberbullying\n",
              "1  Why is #aussietv so white? #MKR #theblock #ImA...  not_cyberbullying\n",
              "2  @XochitlSuckkks a classy whore? Or more red ve...  not_cyberbullying\n",
              "3  @Jason_Gio meh. :P  thanks for the heads up, b...  not_cyberbullying"
            ],
            "text/html": [
              "\n",
              "  <div id=\"df-c7b73bb0-455f-4444-b39e-836525597b42\">\n",
              "    <div class=\"colab-df-container\">\n",
              "      <div>\n",
              "<style scoped>\n",
              "    .dataframe tbody tr th:only-of-type {\n",
              "        vertical-align: middle;\n",
              "    }\n",
              "\n",
              "    .dataframe tbody tr th {\n",
              "        vertical-align: top;\n",
              "    }\n",
              "\n",
              "    .dataframe thead th {\n",
              "        text-align: right;\n",
              "    }\n",
              "</style>\n",
              "<table border=\"1\" class=\"dataframe\">\n",
              "  <thead>\n",
              "    <tr style=\"text-align: right;\">\n",
              "      <th></th>\n",
              "      <th>tweet_text</th>\n",
              "      <th>cyberbullying_type</th>\n",
              "    </tr>\n",
              "  </thead>\n",
              "  <tbody>\n",
              "    <tr>\n",
              "      <th>0</th>\n",
              "      <td>In other words #katandandre, your food was cra...</td>\n",
              "      <td>not_cyberbullying</td>\n",
              "    </tr>\n",
              "    <tr>\n",
              "      <th>1</th>\n",
              "      <td>Why is #aussietv so white? #MKR #theblock #ImA...</td>\n",
              "      <td>not_cyberbullying</td>\n",
              "    </tr>\n",
              "    <tr>\n",
              "      <th>2</th>\n",
              "      <td>@XochitlSuckkks a classy whore? Or more red ve...</td>\n",
              "      <td>not_cyberbullying</td>\n",
              "    </tr>\n",
              "    <tr>\n",
              "      <th>3</th>\n",
              "      <td>@Jason_Gio meh. :P  thanks for the heads up, b...</td>\n",
              "      <td>not_cyberbullying</td>\n",
              "    </tr>\n",
              "  </tbody>\n",
              "</table>\n",
              "</div>\n",
              "      <button class=\"colab-df-convert\" onclick=\"convertToInteractive('df-c7b73bb0-455f-4444-b39e-836525597b42')\"\n",
              "              title=\"Convert this dataframe to an interactive table.\"\n",
              "              style=\"display:none;\">\n",
              "        \n",
              "  <svg xmlns=\"http://www.w3.org/2000/svg\" height=\"24px\"viewBox=\"0 0 24 24\"\n",
              "       width=\"24px\">\n",
              "    <path d=\"M0 0h24v24H0V0z\" fill=\"none\"/>\n",
              "    <path d=\"M18.56 5.44l.94 2.06.94-2.06 2.06-.94-2.06-.94-.94-2.06-.94 2.06-2.06.94zm-11 1L8.5 8.5l.94-2.06 2.06-.94-2.06-.94L8.5 2.5l-.94 2.06-2.06.94zm10 10l.94 2.06.94-2.06 2.06-.94-2.06-.94-.94-2.06-.94 2.06-2.06.94z\"/><path d=\"M17.41 7.96l-1.37-1.37c-.4-.4-.92-.59-1.43-.59-.52 0-1.04.2-1.43.59L10.3 9.45l-7.72 7.72c-.78.78-.78 2.05 0 2.83L4 21.41c.39.39.9.59 1.41.59.51 0 1.02-.2 1.41-.59l7.78-7.78 2.81-2.81c.8-.78.8-2.07 0-2.86zM5.41 20L4 18.59l7.72-7.72 1.47 1.35L5.41 20z\"/>\n",
              "  </svg>\n",
              "      </button>\n",
              "      \n",
              "  <style>\n",
              "    .colab-df-container {\n",
              "      display:flex;\n",
              "      flex-wrap:wrap;\n",
              "      gap: 12px;\n",
              "    }\n",
              "\n",
              "    .colab-df-convert {\n",
              "      background-color: #E8F0FE;\n",
              "      border: none;\n",
              "      border-radius: 50%;\n",
              "      cursor: pointer;\n",
              "      display: none;\n",
              "      fill: #1967D2;\n",
              "      height: 32px;\n",
              "      padding: 0 0 0 0;\n",
              "      width: 32px;\n",
              "    }\n",
              "\n",
              "    .colab-df-convert:hover {\n",
              "      background-color: #E2EBFA;\n",
              "      box-shadow: 0px 1px 2px rgba(60, 64, 67, 0.3), 0px 1px 3px 1px rgba(60, 64, 67, 0.15);\n",
              "      fill: #174EA6;\n",
              "    }\n",
              "\n",
              "    [theme=dark] .colab-df-convert {\n",
              "      background-color: #3B4455;\n",
              "      fill: #D2E3FC;\n",
              "    }\n",
              "\n",
              "    [theme=dark] .colab-df-convert:hover {\n",
              "      background-color: #434B5C;\n",
              "      box-shadow: 0px 1px 3px 1px rgba(0, 0, 0, 0.15);\n",
              "      filter: drop-shadow(0px 1px 2px rgba(0, 0, 0, 0.3));\n",
              "      fill: #FFFFFF;\n",
              "    }\n",
              "  </style>\n",
              "\n",
              "      <script>\n",
              "        const buttonEl =\n",
              "          document.querySelector('#df-c7b73bb0-455f-4444-b39e-836525597b42 button.colab-df-convert');\n",
              "        buttonEl.style.display =\n",
              "          google.colab.kernel.accessAllowed ? 'block' : 'none';\n",
              "\n",
              "        async function convertToInteractive(key) {\n",
              "          const element = document.querySelector('#df-c7b73bb0-455f-4444-b39e-836525597b42');\n",
              "          const dataTable =\n",
              "            await google.colab.kernel.invokeFunction('convertToInteractive',\n",
              "                                                     [key], {});\n",
              "          if (!dataTable) return;\n",
              "\n",
              "          const docLinkHtml = 'Like what you see? Visit the ' +\n",
              "            '<a target=\"_blank\" href=https://colab.research.google.com/notebooks/data_table.ipynb>data table notebook</a>'\n",
              "            + ' to learn more about interactive tables.';\n",
              "          element.innerHTML = '';\n",
              "          dataTable['output_type'] = 'display_data';\n",
              "          await google.colab.output.renderOutput(dataTable, element);\n",
              "          const docLink = document.createElement('div');\n",
              "          docLink.innerHTML = docLinkHtml;\n",
              "          element.appendChild(docLink);\n",
              "        }\n",
              "      </script>\n",
              "    </div>\n",
              "  </div>\n",
              "  "
            ]
          },
          "metadata": {},
          "execution_count": 9
        }
      ],
      "source": [
        "df.head(4)"
      ]
    },
    {
      "cell_type": "code",
      "execution_count": 10,
      "metadata": {
        "colab": {
          "base_uri": "https://localhost:8080/"
        },
        "id": "V-LjsF89zbCQ",
        "outputId": "bbb051f7-146b-443e-8d0c-33f96300056e"
      },
      "outputs": [
        {
          "output_type": "execute_result",
          "data": {
            "text/plain": [
              "religion               7998\n",
              "age                    7992\n",
              "gender                 7973\n",
              "ethnicity              7961\n",
              "not_cyberbullying      7945\n",
              "other_cyberbullying    7823\n",
              "Name: cyberbullying_type, dtype: int64"
            ]
          },
          "metadata": {},
          "execution_count": 10
        }
      ],
      "source": [
        "df.cyberbullying_type.value_counts()"
      ]
    },
    {
      "cell_type": "code",
      "execution_count": 11,
      "metadata": {
        "colab": {
          "base_uri": "https://localhost:8080/",
          "height": 175
        },
        "id": "lGCV6jIpzb2X",
        "outputId": "db2b0f6c-dd05-49c2-908f-e4bb79b29b1c"
      },
      "outputs": [
        {
          "output_type": "execute_result",
          "data": {
            "text/plain": [
              "                                          tweet_text cyberbullying_type\n",
              "0  In other words #katandandre, your food was cra...  not_cyberbullying\n",
              "1  Why is #aussietv so white? #MKR #theblock #ImA...  not_cyberbullying\n",
              "2  @XochitlSuckkks a classy whore? Or more red ve...  not_cyberbullying\n",
              "3  @Jason_Gio meh. :P  thanks for the heads up, b...  not_cyberbullying"
            ],
            "text/html": [
              "\n",
              "  <div id=\"df-879c2306-286a-4a83-b3a1-42af223f6576\">\n",
              "    <div class=\"colab-df-container\">\n",
              "      <div>\n",
              "<style scoped>\n",
              "    .dataframe tbody tr th:only-of-type {\n",
              "        vertical-align: middle;\n",
              "    }\n",
              "\n",
              "    .dataframe tbody tr th {\n",
              "        vertical-align: top;\n",
              "    }\n",
              "\n",
              "    .dataframe thead th {\n",
              "        text-align: right;\n",
              "    }\n",
              "</style>\n",
              "<table border=\"1\" class=\"dataframe\">\n",
              "  <thead>\n",
              "    <tr style=\"text-align: right;\">\n",
              "      <th></th>\n",
              "      <th>tweet_text</th>\n",
              "      <th>cyberbullying_type</th>\n",
              "    </tr>\n",
              "  </thead>\n",
              "  <tbody>\n",
              "    <tr>\n",
              "      <th>0</th>\n",
              "      <td>In other words #katandandre, your food was cra...</td>\n",
              "      <td>not_cyberbullying</td>\n",
              "    </tr>\n",
              "    <tr>\n",
              "      <th>1</th>\n",
              "      <td>Why is #aussietv so white? #MKR #theblock #ImA...</td>\n",
              "      <td>not_cyberbullying</td>\n",
              "    </tr>\n",
              "    <tr>\n",
              "      <th>2</th>\n",
              "      <td>@XochitlSuckkks a classy whore? Or more red ve...</td>\n",
              "      <td>not_cyberbullying</td>\n",
              "    </tr>\n",
              "    <tr>\n",
              "      <th>3</th>\n",
              "      <td>@Jason_Gio meh. :P  thanks for the heads up, b...</td>\n",
              "      <td>not_cyberbullying</td>\n",
              "    </tr>\n",
              "  </tbody>\n",
              "</table>\n",
              "</div>\n",
              "      <button class=\"colab-df-convert\" onclick=\"convertToInteractive('df-879c2306-286a-4a83-b3a1-42af223f6576')\"\n",
              "              title=\"Convert this dataframe to an interactive table.\"\n",
              "              style=\"display:none;\">\n",
              "        \n",
              "  <svg xmlns=\"http://www.w3.org/2000/svg\" height=\"24px\"viewBox=\"0 0 24 24\"\n",
              "       width=\"24px\">\n",
              "    <path d=\"M0 0h24v24H0V0z\" fill=\"none\"/>\n",
              "    <path d=\"M18.56 5.44l.94 2.06.94-2.06 2.06-.94-2.06-.94-.94-2.06-.94 2.06-2.06.94zm-11 1L8.5 8.5l.94-2.06 2.06-.94-2.06-.94L8.5 2.5l-.94 2.06-2.06.94zm10 10l.94 2.06.94-2.06 2.06-.94-2.06-.94-.94-2.06-.94 2.06-2.06.94z\"/><path d=\"M17.41 7.96l-1.37-1.37c-.4-.4-.92-.59-1.43-.59-.52 0-1.04.2-1.43.59L10.3 9.45l-7.72 7.72c-.78.78-.78 2.05 0 2.83L4 21.41c.39.39.9.59 1.41.59.51 0 1.02-.2 1.41-.59l7.78-7.78 2.81-2.81c.8-.78.8-2.07 0-2.86zM5.41 20L4 18.59l7.72-7.72 1.47 1.35L5.41 20z\"/>\n",
              "  </svg>\n",
              "      </button>\n",
              "      \n",
              "  <style>\n",
              "    .colab-df-container {\n",
              "      display:flex;\n",
              "      flex-wrap:wrap;\n",
              "      gap: 12px;\n",
              "    }\n",
              "\n",
              "    .colab-df-convert {\n",
              "      background-color: #E8F0FE;\n",
              "      border: none;\n",
              "      border-radius: 50%;\n",
              "      cursor: pointer;\n",
              "      display: none;\n",
              "      fill: #1967D2;\n",
              "      height: 32px;\n",
              "      padding: 0 0 0 0;\n",
              "      width: 32px;\n",
              "    }\n",
              "\n",
              "    .colab-df-convert:hover {\n",
              "      background-color: #E2EBFA;\n",
              "      box-shadow: 0px 1px 2px rgba(60, 64, 67, 0.3), 0px 1px 3px 1px rgba(60, 64, 67, 0.15);\n",
              "      fill: #174EA6;\n",
              "    }\n",
              "\n",
              "    [theme=dark] .colab-df-convert {\n",
              "      background-color: #3B4455;\n",
              "      fill: #D2E3FC;\n",
              "    }\n",
              "\n",
              "    [theme=dark] .colab-df-convert:hover {\n",
              "      background-color: #434B5C;\n",
              "      box-shadow: 0px 1px 3px 1px rgba(0, 0, 0, 0.15);\n",
              "      filter: drop-shadow(0px 1px 2px rgba(0, 0, 0, 0.3));\n",
              "      fill: #FFFFFF;\n",
              "    }\n",
              "  </style>\n",
              "\n",
              "      <script>\n",
              "        const buttonEl =\n",
              "          document.querySelector('#df-879c2306-286a-4a83-b3a1-42af223f6576 button.colab-df-convert');\n",
              "        buttonEl.style.display =\n",
              "          google.colab.kernel.accessAllowed ? 'block' : 'none';\n",
              "\n",
              "        async function convertToInteractive(key) {\n",
              "          const element = document.querySelector('#df-879c2306-286a-4a83-b3a1-42af223f6576');\n",
              "          const dataTable =\n",
              "            await google.colab.kernel.invokeFunction('convertToInteractive',\n",
              "                                                     [key], {});\n",
              "          if (!dataTable) return;\n",
              "\n",
              "          const docLinkHtml = 'Like what you see? Visit the ' +\n",
              "            '<a target=\"_blank\" href=https://colab.research.google.com/notebooks/data_table.ipynb>data table notebook</a>'\n",
              "            + ' to learn more about interactive tables.';\n",
              "          element.innerHTML = '';\n",
              "          dataTable['output_type'] = 'display_data';\n",
              "          await google.colab.output.renderOutput(dataTable, element);\n",
              "          const docLink = document.createElement('div');\n",
              "          docLink.innerHTML = docLinkHtml;\n",
              "          element.appendChild(docLink);\n",
              "        }\n",
              "      </script>\n",
              "    </div>\n",
              "  </div>\n",
              "  "
            ]
          },
          "metadata": {},
          "execution_count": 11
        }
      ],
      "source": [
        "df.head(4)"
      ]
    },
    {
      "cell_type": "markdown",
      "metadata": {
        "id": "1wQnbzYF-mxq"
      },
      "source": [
        "***Let's create a preprocess function which will remove white spaces, punctuations, stop words and derive the word into it's base form using Lemmatization.***"
      ]
    },
    {
      "cell_type": "code",
      "execution_count": 12,
      "metadata": {
        "colab": {
          "base_uri": "https://localhost:8080/"
        },
        "id": "URWpaqOS-FF6",
        "outputId": "bc999e74-2afe-4ab3-b64c-99580032c90c"
      },
      "outputs": [
        {
          "output_type": "stream",
          "name": "stdout",
          "text": [
            "\u001b[38;5;2m✔ Download and installation successful\u001b[0m\n",
            "You can now load the package via spacy.load('en_core_web_lg')\n"
          ]
        }
      ],
      "source": [
        "import re\n",
        "from spacy import cli\n",
        "cli.download(\"en_core_web_lg\");\n",
        "\n"
      ]
    },
    {
      "cell_type": "code",
      "execution_count": 13,
      "metadata": {
        "id": "Lp1cwaTE-_d1"
      },
      "outputs": [],
      "source": [
        "\n",
        "nlp=spacy.load(\"en_core_web_lg\");\n",
        "def preprocess(text):\n",
        "  text=re.sub('[^\\s\\w\\']',' ',text);\n",
        "  text=re.sub(' +',' ',text);\n",
        "  text=text.strip().lower();\n",
        "  doc=nlp(text);\n",
        "  filtered_tokens=[token.lemma_ for token in doc if not token.is_stop];\n",
        "  return \" \".join(filtered_tokens);"
      ]
    },
    {
      "cell_type": "code",
      "source": [
        "df['preprocessed_tweets']=df['tweet_text'].apply(preprocess);"
      ],
      "metadata": {
        "id": "JrWn2_edO3RZ"
      },
      "execution_count": 14,
      "outputs": []
    },
    {
      "cell_type": "code",
      "source": [
        "df.preprocessed_tweets"
      ],
      "metadata": {
        "colab": {
          "base_uri": "https://localhost:8080/"
        },
        "id": "cA-8y-55QXuX",
        "outputId": "69006ab2-3e98-4fd1-fab2-2ec696e9c28b"
      },
      "execution_count": 15,
      "outputs": [
        {
          "output_type": "execute_result",
          "data": {
            "text/plain": [
              "0                   word katandandre food crapilicious mkr\n",
              "1        aussietv white mkr theblock imacelebrityau tod...\n",
              "2           xochitlsuckkks classy whore red velvet cupcake\n",
              "3        jason_gio meh p thank head concerned angry dud...\n",
              "4        rudhoeenglish isis account pretend kurdish acc...\n",
              "                               ...                        \n",
              "47687    black ppl expect depend free participate work ...\n",
              "47688    turner withhold disappointment turner call cou...\n",
              "47689    swear god dumb nigger bitch get bleach hair re...\n",
              "47690    yea fuck rt therealexel nigger fucking unfollo...\n",
              "47691    bro u get to chill rt chillshrammy dog fuck kp...\n",
              "Name: preprocessed_tweets, Length: 47692, dtype: object"
            ]
          },
          "metadata": {},
          "execution_count": 15
        }
      ]
    },
    {
      "cell_type": "code",
      "source": [
        "# Now I will convert the labels to numerical values\n",
        "df['cyberbullying_type']=df['cyberbullying_type'].map({'religion':1,'age':2,'gender':3,'ethnicity':4,'not_cyberbullying':0,'other_cyberbullying':5});"
      ],
      "metadata": {
        "id": "vPkdGrGvTK0n"
      },
      "execution_count": 16,
      "outputs": []
    },
    {
      "cell_type": "code",
      "source": [
        "df.cyberbullying_type.unique()"
      ],
      "metadata": {
        "colab": {
          "base_uri": "https://localhost:8080/"
        },
        "id": "LrSnX3cGT9Yd",
        "outputId": "f665a1eb-78d8-4426-a9c7-eea1959f32b6"
      },
      "execution_count": 17,
      "outputs": [
        {
          "output_type": "execute_result",
          "data": {
            "text/plain": [
              "array([0, 3, 1, 5, 2, 4])"
            ]
          },
          "metadata": {},
          "execution_count": 17
        }
      ]
    },
    {
      "cell_type": "markdown",
      "source": [
        "***Train test splitting the data***"
      ],
      "metadata": {
        "id": "h1h_zkdJVt7t"
      }
    },
    {
      "cell_type": "code",
      "source": [
        "from sklearn.model_selection import train_test_split\n",
        "\n",
        "X_train,X_test,Y_train,Y_test=train_test_split(df.preprocessed_tweets,df.cyberbullying_type,test_size=0.2,random_state=1000,stratify=df.cyberbullying_type);\n"
      ],
      "metadata": {
        "id": "EOnnIHy8Vx8j"
      },
      "execution_count": 18,
      "outputs": []
    },
    {
      "cell_type": "markdown",
      "source": [
        "**Now I will create sklearn pipeline to train various models using bag of words and bag of n_grams**"
      ],
      "metadata": {
        "id": "zp95hmk-UU3R"
      }
    },
    {
      "cell_type": "code",
      "source": [
        "# Loading the required models\n",
        "from sklearn.tree import DecisionTreeClassifier\n",
        "from sklearn.ensemble import BaggingClassifier\n",
        "from sklearn.ensemble import RandomForestClassifier\n",
        "from sklearn.naive_bayes import MultinomialNB\n",
        "from sklearn.preprocessing import MinMaxScaler\n",
        "from sklearn.svm import SVC\n",
        "from sklearn.pipeline import Pipeline\n",
        "from sklearn.feature_extraction.text import CountVectorizer\n",
        "from sklearn.feature_extraction.text import TfidfVectorizer"
      ],
      "metadata": {
        "id": "5f5mNHTjUR6u"
      },
      "execution_count": 19,
      "outputs": []
    },
    {
      "cell_type": "code",
      "source": [
        "multinomial_nb=Pipeline([\n",
        "    ('vectorizer',CountVectorizer()),\n",
        "    ('model',MultinomialNB())    \n",
        "])\n",
        "\n",
        "multinomial_nb.fit(X_train,Y_train);\n",
        "y_pred=multinomial_nb.predict(X_test);\n",
        "cr_multinomial_nb=classification_report(Y_test,y_pred)\n",
        "\n",
        "print(cr_multinomial_nb);"
      ],
      "metadata": {
        "colab": {
          "base_uri": "https://localhost:8080/"
        },
        "id": "BGbi2WU-U73V",
        "outputId": "dbd7d138-c5b4-4da4-b6c1-68219fe4a4a6"
      },
      "execution_count": 20,
      "outputs": [
        {
          "output_type": "stream",
          "name": "stdout",
          "text": [
            "              precision    recall  f1-score   support\n",
            "\n",
            "           0       0.69      0.39      0.50      1589\n",
            "           1       0.82      0.97      0.89      1600\n",
            "           2       0.74      0.99      0.85      1598\n",
            "           3       0.85      0.85      0.85      1595\n",
            "           4       0.86      0.93      0.90      1592\n",
            "           5       0.67      0.55      0.60      1565\n",
            "\n",
            "    accuracy                           0.78      9539\n",
            "   macro avg       0.77      0.78      0.76      9539\n",
            "weighted avg       0.77      0.78      0.76      9539\n",
            "\n"
          ]
        }
      ]
    },
    {
      "cell_type": "code",
      "source": [
        "\n",
        "\n",
        "\n",
        "\n",
        "\n",
        "import seaborn as sns\n",
        "cm_nb=confusion_matrix(Y_test,y_pred);\n",
        "sns.heatmap(cm_nb,annot=True,fmt='d');"
      ],
      "metadata": {
        "colab": {
          "base_uri": "https://localhost:8080/",
          "height": 265
        },
        "id": "ZkqMACA_WxiY",
        "outputId": "48adb9db-5156-4f2f-9ad6-ac63d6904ad4"
      },
      "execution_count": 21,
      "outputs": [
        {
          "output_type": "display_data",
          "data": {
            "text/plain": [
              "<Figure size 432x288 with 2 Axes>"
            ],
            "image/png": "[encoded data removed]"
          },
          "metadata": {
            "needs_background": "light"
          }
        }
      ]
    },
    {
      "cell_type": "code",
      "source": [
        "multinomial_nb=Pipeline([\n",
        "  \n",
        "    ('vectorizer',CountVectorizer(ngram_range=(1,2))),\n",
        "    ('model',MultinomialNB())\n",
        "])\n",
        "\n",
        "multinomial_nb.fit(X_train,Y_train);\n",
        "y_pred=multinomial_nb.predict(X_test);\n",
        "cr_nb=classification_report(Y_test,y_pred);\n",
        "print(cr_nb);"
      ],
      "metadata": {
        "colab": {
          "base_uri": "https://localhost:8080/"
        },
        "id": "25u_YS3kXW2I",
        "outputId": "4d80a3dd-126f-4722-918e-3d0d0f73805c"
      },
      "execution_count": 22,
      "outputs": [
        {
          "output_type": "stream",
          "name": "stdout",
          "text": [
            "              precision    recall  f1-score   support\n",
            "\n",
            "           0       0.60      0.36      0.45      1589\n",
            "           1       0.79      0.98      0.88      1600\n",
            "           2       0.72      0.99      0.83      1598\n",
            "           3       0.84      0.86      0.85      1595\n",
            "           4       0.87      0.93      0.90      1592\n",
            "           5       0.63      0.42      0.51      1565\n",
            "\n",
            "    accuracy                           0.76      9539\n",
            "   macro avg       0.74      0.76      0.74      9539\n",
            "weighted avg       0.74      0.76      0.74      9539\n",
            "\n"
          ]
        }
      ]
    },
    {
      "cell_type": "code",
      "source": [
        "cm_nb=confusion_matrix(Y_test,y_pred);\n",
        "sns.heatmap(cm_nb,annot=True, fmt='d');\n"
      ],
      "metadata": {
        "colab": {
          "base_uri": "https://localhost:8080/",
          "height": 265
        },
        "id": "T9w8b-R7YvBZ",
        "outputId": "efd7fede-b40c-470f-fcf5-efa97c51733b"
      },
      "execution_count": 23,
      "outputs": [
        {
          "output_type": "display_data",
          "data": {
            "text/plain": [
              "<Figure size 432x288 with 2 Axes>"
            ],
            "image/png": "[encoded data removed]"
          },
          "metadata": {
            "needs_background": "light"
          }
        }
      ]
    },
    {
      "cell_type": "code",
      "source": [
        "\n",
        "multinomial_nb=Pipeline([\n",
        "   \n",
        "    ('vectorizer',TfidfVectorizer()),\n",
        "    ('model',MultinomialNB())\n",
        "])\n",
        "\n",
        "multinomial_nb.fit(X_train,Y_train);\n",
        "y_pred=multinomial_nb.predict(X_test);\n",
        "cr_nb=classification_report(Y_test,y_pred);\n",
        "print(cr_nb)"
      ],
      "metadata": {
        "colab": {
          "base_uri": "https://localhost:8080/"
        },
        "id": "JqZWgk-4Zju6",
        "outputId": "9f13e706-a7aa-472d-ee93-1958aaff5584"
      },
      "execution_count": 24,
      "outputs": [
        {
          "output_type": "stream",
          "name": "stdout",
          "text": [
            "              precision    recall  f1-score   support\n",
            "\n",
            "           0       0.69      0.37      0.48      1589\n",
            "           1       0.79      0.97      0.87      1600\n",
            "           2       0.70      0.99      0.82      1598\n",
            "           3       0.83      0.85      0.84      1595\n",
            "           4       0.86      0.90      0.88      1592\n",
            "           5       0.67      0.50      0.58      1565\n",
            "\n",
            "    accuracy                           0.76      9539\n",
            "   macro avg       0.76      0.76      0.74      9539\n",
            "weighted avg       0.76      0.76      0.75      9539\n",
            "\n"
          ]
        }
      ]
    },
    {
      "cell_type": "code",
      "source": [
        "cm_nb=confusion_matrix(Y_test,y_pred);\n",
        "sns.heatmap(cm_nb,annot=True,fmt='d');"
      ],
      "metadata": {
        "colab": {
          "base_uri": "https://localhost:8080/",
          "height": 265
        },
        "id": "VP_zyhFdaWSg",
        "outputId": "bc1fa4bd-2ef2-473c-9b22-a61cf98e4d42"
      },
      "execution_count": 25,
      "outputs": [
        {
          "output_type": "display_data",
          "data": {
            "text/plain": [
              "<Figure size 432x288 with 2 Axes>"
            ],
            "image/png": "[encoded data removed]"
          },
          "metadata": {
            "needs_background": "light"
          }
        }
      ]
    },
    {
      "cell_type": "code",
      "source": [
        "random_forest=Pipeline([\n",
        "   \n",
        "    ('vectorizer',TfidfVectorizer()),\n",
        "    ('model',RandomForestClassifier(n_estimators=27))\n",
        "])\n",
        "\n",
        "random_forest.fit(X_train,Y_train);\n",
        "y_pred_random_forest=random_forest.predict(X_test);\n",
        "cr_randomForest=classification_report(Y_test,y_pred_random_forest);\n",
        "print(cr_randomForest);"
      ],
      "metadata": {
        "id": "xvq2lFQHayTI",
        "colab": {
          "base_uri": "https://localhost:8080/"
        },
        "outputId": "2d8e6b0d-49b0-435a-f8ee-d66b1fe54e56"
      },
      "execution_count": 26,
      "outputs": [
        {
          "output_type": "stream",
          "name": "stdout",
          "text": [
            "              precision    recall  f1-score   support\n",
            "\n",
            "           0       0.57      0.53      0.55      1589\n",
            "           1       0.96      0.95      0.96      1600\n",
            "           2       0.97      0.98      0.97      1598\n",
            "           3       0.90      0.84      0.87      1595\n",
            "           4       0.98      0.98      0.98      1592\n",
            "           5       0.57      0.64      0.60      1565\n",
            "\n",
            "    accuracy                           0.82      9539\n",
            "   macro avg       0.82      0.82      0.82      9539\n",
            "weighted avg       0.82      0.82      0.82      9539\n",
            "\n"
          ]
        }
      ]
    },
    {
      "cell_type": "code",
      "source": [
        "cm_rf=confusion_matrix(Y_test,y_pred_random_forest);\n",
        "sns.heatmap(cm_rf,annot=True,fmt='d');"
      ],
      "metadata": {
        "colab": {
          "base_uri": "https://localhost:8080/",
          "height": 265
        },
        "id": "-xSvbZxmpEJE",
        "outputId": "b58137a4-a23c-4d16-8294-0b6ca516043d"
      },
      "execution_count": 27,
      "outputs": [
        {
          "output_type": "display_data",
          "data": {
            "text/plain": [
              "<Figure size 432x288 with 2 Axes>"
            ],
            "image/png": "[encoded data removed]"
          },
          "metadata": {
            "needs_background": "light"
          }
        }
      ]
    },
    {
      "cell_type": "code",
      "source": [
        "\n",
        "decisionTree=Pipeline([\n",
        "    ('vectorizer',TfidfVectorizer()),\n",
        "    ('model',BaggingClassifier(base_estimator=DecisionTreeClassifier(criterion='gini'),n_estimators=27,random_state=2022))\n",
        "])\n",
        "\n",
        "\n",
        "decisionTree.fit(X_train,Y_train);\n",
        "y_pred_decisionTree=decisionTree.predict(X_test);\n",
        "cr_decisionTree=classification_report(Y_test,y_pred_decisionTree);\n",
        "print(cr_decisionTree);"
      ],
      "metadata": {
        "colab": {
          "base_uri": "https://localhost:8080/"
        },
        "id": "iCkg5hUNqk-t",
        "outputId": "bb95b170-069d-4b12-f952-90d8133f0d50"
      },
      "execution_count": 28,
      "outputs": [
        {
          "output_type": "stream",
          "name": "stdout",
          "text": [
            "              precision    recall  f1-score   support\n",
            "\n",
            "           0       0.56      0.53      0.55      1589\n",
            "           1       0.97      0.94      0.95      1600\n",
            "           2       0.99      0.97      0.98      1598\n",
            "           3       0.89      0.85      0.87      1595\n",
            "           4       0.98      0.98      0.98      1592\n",
            "           5       0.56      0.65      0.60      1565\n",
            "\n",
            "    accuracy                           0.82      9539\n",
            "   macro avg       0.83      0.82      0.82      9539\n",
            "weighted avg       0.83      0.82      0.82      9539\n",
            "\n"
          ]
        }
      ]
    },
    {
      "cell_type": "code",
      "source": [
        "cm_decisionTree=confusion_matrix(Y_test,y_pred_decisionTree);\n",
        "sns.heatmap(cm_decisionTree,annot=True,fmt='d');"
      ],
      "metadata": {
        "colab": {
          "base_uri": "https://localhost:8080/",
          "height": 265
        },
        "id": "6UQMOkTYsQ8b",
        "outputId": "c4a16a96-dad3-499a-a960-6420c94279b7"
      },
      "execution_count": 29,
      "outputs": [
        {
          "output_type": "display_data",
          "data": {
            "text/plain": [
              "<Figure size 432x288 with 2 Axes>"
            ],
            "image/png": "[encoded data removed]"
          },
          "metadata": {
            "needs_background": "light"
          }
        }
      ]
    },
    {
      "cell_type": "code",
      "source": [
        "\n",
        "svm_linear=Pipeline([\n",
        "    ('vectorizer',TfidfVectorizer()),\n",
        "    ('model',SVC(kernel='linear',C=0.9))\n",
        "])\n",
        "\n",
        "svm_linear.fit(X_train,Y_train);\n",
        "y_pred_svm_linear=svm_linear.predict(X_test);\n",
        "cr_svm_linear=classification_report(Y_test,y_pred_svm_linear);"
      ],
      "metadata": {
        "id": "HSiCl4UptiC7"
      },
      "execution_count": 30,
      "outputs": []
    },
    {
      "cell_type": "code",
      "source": [
        "print(cr_svm_linear);"
      ],
      "metadata": {
        "colab": {
          "base_uri": "https://localhost:8080/"
        },
        "id": "JZJDfQdktt-k",
        "outputId": "230251a3-0b0d-47de-a23f-6aa045344587"
      },
      "execution_count": 31,
      "outputs": [
        {
          "output_type": "stream",
          "name": "stdout",
          "text": [
            "              precision    recall  f1-score   support\n",
            "\n",
            "           0       0.63      0.57      0.60      1589\n",
            "           1       0.97      0.95      0.96      1600\n",
            "           2       0.95      0.98      0.97      1598\n",
            "           3       0.91      0.87      0.89      1595\n",
            "           4       0.97      0.99      0.98      1592\n",
            "           5       0.65      0.72      0.68      1565\n",
            "\n",
            "    accuracy                           0.85      9539\n",
            "   macro avg       0.85      0.85      0.85      9539\n",
            "weighted avg       0.85      0.85      0.85      9539\n",
            "\n"
          ]
        }
      ]
    },
    {
      "cell_type": "code",
      "source": [
        "\n",
        "cm_svm_linear=confusion_matrix(Y_test,y_pred_svm_linear);\n",
        "sns.heatmap(cm_svm_linear,annot=True,fmt='d');"
      ],
      "metadata": {
        "colab": {
          "base_uri": "https://localhost:8080/",
          "height": 265
        },
        "id": "fwehsV2NuXmq",
        "outputId": "d0ad83a1-3ba9-4435-a98d-de42f7f6403a"
      },
      "execution_count": 32,
      "outputs": [
        {
          "output_type": "display_data",
          "data": {
            "text/plain": [
              "<Figure size 432x288 with 2 Axes>"
            ],
            "image/png": "[encoded data removed]"
          },
          "metadata": {
            "needs_background": "light"
          }
        }
      ]
    },
    {
      "cell_type": "code",
      "source": [
        "svm_rbf=Pipeline([\n",
        "    ('vectorizer',TfidfVectorizer()),\n",
        "    ('model',SVC(kernel='rbf',C=0.98))\n",
        "\n",
        "]);\n",
        "\n",
        "svm_rbf.fit(X_train,Y_train);\n",
        "y_pred_svm_rbf=svm_rbf.predict(X_test);"
      ],
      "metadata": {
        "id": "MXuMQ2Lxz_H7"
      },
      "execution_count": 33,
      "outputs": []
    },
    {
      "cell_type": "code",
      "source": [
        "cr_svm_rbf=classification_report(Y_test,y_pred_svm_rbf);\n",
        "print(cr_svm_rbf);"
      ],
      "metadata": {
        "id": "6RjVDDx20l0E",
        "colab": {
          "base_uri": "https://localhost:8080/"
        },
        "outputId": "3b279a29-51a1-4d60-86a3-b071bbcb83e6"
      },
      "execution_count": 35,
      "outputs": [
        {
          "output_type": "stream",
          "name": "stdout",
          "text": [
            "              precision    recall  f1-score   support\n",
            "\n",
            "           0       0.61      0.54      0.57      1589\n",
            "           1       0.96      0.94      0.95      1600\n",
            "           2       0.94      0.97      0.96      1598\n",
            "           3       0.91      0.85      0.88      1595\n",
            "           4       0.97      0.98      0.98      1592\n",
            "           5       0.61      0.71      0.66      1565\n",
            "\n",
            "    accuracy                           0.83      9539\n",
            "   macro avg       0.83      0.83      0.83      9539\n",
            "weighted avg       0.83      0.83      0.83      9539\n",
            "\n"
          ]
        }
      ]
    },
    {
      "cell_type": "code",
      "source": [
        "cm_svm_rbf=confusion_matrix(Y_test,y_pred_svm_rbf);\n",
        "sns.heatmap(cm_svm_rbf,annot=True,fmt='d');"
      ],
      "metadata": {
        "colab": {
          "base_uri": "https://localhost:8080/",
          "height": 265
        },
        "id": "Lv1uACHyqlJD",
        "outputId": "2f52edb0-f9e9-4311-860d-fde39091efc8"
      },
      "execution_count": 36,
      "outputs": [
        {
          "output_type": "display_data",
          "data": {
            "text/plain": [
              "<Figure size 432x288 with 2 Axes>"
            ],
            "image/png": "[encoded data removed]"
          },
          "metadata": {
            "needs_background": "light"
          }
        }
      ]
    },
    {
      "cell_type": "code",
      "source": [
        "# Using word embeddings for text representation\n",
        "\n",
        "def vectorize(text):\n",
        "  \n",
        "  return nlp(text).vector;"
      ],
      "metadata": {
        "id": "dyUVCzSVqx0I"
      },
      "execution_count": 39,
      "outputs": []
    },
    {
      "cell_type": "code",
      "source": [
        "df.head(4)"
      ],
      "metadata": {
        "colab": {
          "base_uri": "https://localhost:8080/",
          "height": 219
        },
        "id": "J9FFkRj1uaFS",
        "outputId": "552b6690-e671-4605-818a-b93f5b64d1cb"
      },
      "execution_count": 40,
      "outputs": [
        {
          "output_type": "execute_result",
          "data": {
            "text/plain": [
              "                                          tweet_text  cyberbullying_type  \\\n",
              "0  In other words #katandandre, your food was cra...                   0   \n",
              "1  Why is #aussietv so white? #MKR #theblock #ImA...                   0   \n",
              "2  @XochitlSuckkks a classy whore? Or more red ve...                   0   \n",
              "3  @Jason_Gio meh. :P  thanks for the heads up, b...                   0   \n",
              "\n",
              "                                 preprocessed_tweets  \n",
              "0             word katandandre food crapilicious mkr  \n",
              "1  aussietv white mkr theblock imacelebrityau tod...  \n",
              "2     xochitlsuckkks classy whore red velvet cupcake  \n",
              "3  jason_gio meh p thank head concerned angry dud...  "
            ],
            "text/html": [
              "\n",
              "  <div id=\"df-b71acd54-0b7e-437c-bb88-700c8fe30bf5\">\n",
              "    <div class=\"colab-df-container\">\n",
              "      <div>\n",
              "<style scoped>\n",
              "    .dataframe tbody tr th:only-of-type {\n",
              "        vertical-align: middle;\n",
              "    }\n",
              "\n",
              "    .dataframe tbody tr th {\n",
              "        vertical-align: top;\n",
              "    }\n",
              "\n",
              "    .dataframe thead th {\n",
              "        text-align: right;\n",
              "    }\n",
              "</style>\n",
              "<table border=\"1\" class=\"dataframe\">\n",
              "  <thead>\n",
              "    <tr style=\"text-align: right;\">\n",
              "      <th></th>\n",
              "      <th>tweet_text</th>\n",
              "      <th>cyberbullying_type</th>\n",
              "      <th>preprocessed_tweets</th>\n",
              "    </tr>\n",
              "  </thead>\n",
              "  <tbody>\n",
              "    <tr>\n",
              "      <th>0</th>\n",
              "      <td>In other words #katandandre, your food was cra...</td>\n",
              "      <td>0</td>\n",
              "      <td>word katandandre food crapilicious mkr</td>\n",
              "    </tr>\n",
              "    <tr>\n",
              "      <th>1</th>\n",
              "      <td>Why is #aussietv so white? #MKR #theblock #ImA...</td>\n",
              "      <td>0</td>\n",
              "      <td>aussietv white mkr theblock imacelebrityau tod...</td>\n",
              "    </tr>\n",
              "    <tr>\n",
              "      <th>2</th>\n",
              "      <td>@XochitlSuckkks a classy whore? Or more red ve...</td>\n",
              "      <td>0</td>\n",
              "      <td>xochitlsuckkks classy whore red velvet cupcake</td>\n",
              "    </tr>\n",
              "    <tr>\n",
              "      <th>3</th>\n",
              "      <td>@Jason_Gio meh. :P  thanks for the heads up, b...</td>\n",
              "      <td>0</td>\n",
              "      <td>jason_gio meh p thank head concerned angry dud...</td>\n",
              "    </tr>\n",
              "  </tbody>\n",
              "</table>\n",
              "</div>\n",
              "      <button class=\"colab-df-convert\" onclick=\"convertToInteractive('df-b71acd54-0b7e-437c-bb88-700c8fe30bf5')\"\n",
              "              title=\"Convert this dataframe to an interactive table.\"\n",
              "              style=\"display:none;\">\n",
              "        \n",
              "  <svg xmlns=\"http://www.w3.org/2000/svg\" height=\"24px\"viewBox=\"0 0 24 24\"\n",
              "       width=\"24px\">\n",
              "    <path d=\"M0 0h24v24H0V0z\" fill=\"none\"/>\n",
              "    <path d=\"M18.56 5.44l.94 2.06.94-2.06 2.06-.94-2.06-.94-.94-2.06-.94 2.06-2.06.94zm-11 1L8.5 8.5l.94-2.06 2.06-.94-2.06-.94L8.5 2.5l-.94 2.06-2.06.94zm10 10l.94 2.06.94-2.06 2.06-.94-2.06-.94-.94-2.06-.94 2.06-2.06.94z\"/><path d=\"M17.41 7.96l-1.37-1.37c-.4-.4-.92-.59-1.43-.59-.52 0-1.04.2-1.43.59L10.3 9.45l-7.72 7.72c-.78.78-.78 2.05 0 2.83L4 21.41c.39.39.9.59 1.41.59.51 0 1.02-.2 1.41-.59l7.78-7.78 2.81-2.81c.8-.78.8-2.07 0-2.86zM5.41 20L4 18.59l7.72-7.72 1.47 1.35L5.41 20z\"/>\n",
              "  </svg>\n",
              "      </button>\n",
              "      \n",
              "  <style>\n",
              "    .colab-df-container {\n",
              "      display:flex;\n",
              "      flex-wrap:wrap;\n",
              "      gap: 12px;\n",
              "    }\n",
              "\n",
              "    .colab-df-convert {\n",
              "      background-color: #E8F0FE;\n",
              "      border: none;\n",
              "      border-radius: 50%;\n",
              "      cursor: pointer;\n",
              "      display: none;\n",
              "      fill: #1967D2;\n",
              "      height: 32px;\n",
              "      padding: 0 0 0 0;\n",
              "      width: 32px;\n",
              "    }\n",
              "\n",
              "    .colab-df-convert:hover {\n",
              "      background-color: #E2EBFA;\n",
              "      box-shadow: 0px 1px 2px rgba(60, 64, 67, 0.3), 0px 1px 3px 1px rgba(60, 64, 67, 0.15);\n",
              "      fill: #174EA6;\n",
              "    }\n",
              "\n",
              "    [theme=dark] .colab-df-convert {\n",
              "      background-color: #3B4455;\n",
              "      fill: #D2E3FC;\n",
              "    }\n",
              "\n",
              "    [theme=dark] .colab-df-convert:hover {\n",
              "      background-color: #434B5C;\n",
              "      box-shadow: 0px 1px 3px 1px rgba(0, 0, 0, 0.15);\n",
              "      filter: drop-shadow(0px 1px 2px rgba(0, 0, 0, 0.3));\n",
              "      fill: #FFFFFF;\n",
              "    }\n",
              "  </style>\n",
              "\n",
              "      <script>\n",
              "        const buttonEl =\n",
              "          document.querySelector('#df-b71acd54-0b7e-437c-bb88-700c8fe30bf5 button.colab-df-convert');\n",
              "        buttonEl.style.display =\n",
              "          google.colab.kernel.accessAllowed ? 'block' : 'none';\n",
              "\n",
              "        async function convertToInteractive(key) {\n",
              "          const element = document.querySelector('#df-b71acd54-0b7e-437c-bb88-700c8fe30bf5');\n",
              "          const dataTable =\n",
              "            await google.colab.kernel.invokeFunction('convertToInteractive',\n",
              "                                                     [key], {});\n",
              "          if (!dataTable) return;\n",
              "\n",
              "          const docLinkHtml = 'Like what you see? Visit the ' +\n",
              "            '<a target=\"_blank\" href=https://colab.research.google.com/notebooks/data_table.ipynb>data table notebook</a>'\n",
              "            + ' to learn more about interactive tables.';\n",
              "          element.innerHTML = '';\n",
              "          dataTable['output_type'] = 'display_data';\n",
              "          await google.colab.output.renderOutput(dataTable, element);\n",
              "          const docLink = document.createElement('div');\n",
              "          docLink.innerHTML = docLinkHtml;\n",
              "          element.appendChild(docLink);\n",
              "        }\n",
              "      </script>\n",
              "    </div>\n",
              "  </div>\n",
              "  "
            ]
          },
          "metadata": {},
          "execution_count": 40
        }
      ]
    },
    {
      "cell_type": "code",
      "source": [
        "df['embeddings']=df['preprocessed_tweets'].apply(vectorize);"
      ],
      "metadata": {
        "id": "smP1aCeEvr6f"
      },
      "execution_count": 41,
      "outputs": []
    },
    {
      "cell_type": "code",
      "source": [
        "df.head(6)"
      ],
      "metadata": {
        "colab": {
          "base_uri": "https://localhost:8080/",
          "height": 386
        },
        "id": "tQY2j1i7v7Bx",
        "outputId": "ed7d822e-d97d-460d-ecf0-50812403512f"
      },
      "execution_count": 42,
      "outputs": [
        {
          "output_type": "execute_result",
          "data": {
            "text/plain": [
              "                                          tweet_text  cyberbullying_type  \\\n",
              "0  In other words #katandandre, your food was cra...                   0   \n",
              "1  Why is #aussietv so white? #MKR #theblock #ImA...                   0   \n",
              "2  @XochitlSuckkks a classy whore? Or more red ve...                   0   \n",
              "3  @Jason_Gio meh. :P  thanks for the heads up, b...                   0   \n",
              "4  @RudhoeEnglish This is an ISIS account pretend...                   0   \n",
              "5  @Raja5aab @Quickieleaks Yes, the test of god i...                   0   \n",
              "\n",
              "                                 preprocessed_tweets  \\\n",
              "0             word katandandre food crapilicious mkr   \n",
              "1  aussietv white mkr theblock imacelebrityau tod...   \n",
              "2     xochitlsuckkks classy whore red velvet cupcake   \n",
              "3  jason_gio meh p thank head concerned angry dud...   \n",
              "4  rudhoeenglish isis account pretend kurdish acc...   \n",
              "5  raja5aab quickieleak yes test god good bad ind...   \n",
              "\n",
              "                                          embeddings  \n",
              "0  [1.4269199, -0.44784003, -0.5476001, -0.121624...  \n",
              "1  [-0.7581573, -0.70325637, -0.37171182, -0.1454...  \n",
              "2  [-2.0785968, -0.12819834, -2.0623815, 1.190051...  \n",
              "3  [0.24085553, 1.0879134, -0.7051667, 0.13739516...  \n",
              "4  [-0.3488288, -0.0730567, -0.9598056, 0.2925244...  \n",
              "5  [0.7177841, -0.74800754, 0.033745833, -0.17426...  "
            ],
            "text/html": [
              "\n",
              "  <div id=\"df-655d1cdf-665c-4707-906b-992ea66c558f\">\n",
              "    <div class=\"colab-df-container\">\n",
              "      <div>\n",
              "<style scoped>\n",
              "    .dataframe tbody tr th:only-of-type {\n",
              "        vertical-align: middle;\n",
              "    }\n",
              "\n",
              "    .dataframe tbody tr th {\n",
              "        vertical-align: top;\n",
              "    }\n",
              "\n",
              "    .dataframe thead th {\n",
              "        text-align: right;\n",
              "    }\n",
              "</style>\n",
              "<table border=\"1\" class=\"dataframe\">\n",
              "  <thead>\n",
              "    <tr style=\"text-align: right;\">\n",
              "      <th></th>\n",
              "      <th>tweet_text</th>\n",
              "      <th>cyberbullying_type</th>\n",
              "      <th>preprocessed_tweets</th>\n",
              "      <th>embeddings</th>\n",
              "    </tr>\n",
              "  </thead>\n",
              "  <tbody>\n",
              "    <tr>\n",
              "      <th>0</th>\n",
              "      <td>In other words #katandandre, your food was cra...</td>\n",
              "      <td>0</td>\n",
              "      <td>word katandandre food crapilicious mkr</td>\n",
              "      <td>[1.4269199, -0.44784003, -0.5476001, -0.121624...</td>\n",
              "    </tr>\n",
              "    <tr>\n",
              "      <th>1</th>\n",
              "      <td>Why is #aussietv so white? #MKR #theblock #ImA...</td>\n",
              "      <td>0</td>\n",
              "      <td>aussietv white mkr theblock imacelebrityau tod...</td>\n",
              "      <td>[-0.7581573, -0.70325637, -0.37171182, -0.1454...</td>\n",
              "    </tr>\n",
              "    <tr>\n",
              "      <th>2</th>\n",
              "      <td>@XochitlSuckkks a classy whore? Or more red ve...</td>\n",
              "      <td>0</td>\n",
              "      <td>xochitlsuckkks classy whore red velvet cupcake</td>\n",
              "      <td>[-2.0785968, -0.12819834, -2.0623815, 1.190051...</td>\n",
              "    </tr>\n",
              "    <tr>\n",
              "      <th>3</th>\n",
              "      <td>@Jason_Gio meh. :P  thanks for the heads up, b...</td>\n",
              "      <td>0</td>\n",
              "      <td>jason_gio meh p thank head concerned angry dud...</td>\n",
              "      <td>[0.24085553, 1.0879134, -0.7051667, 0.13739516...</td>\n",
              "    </tr>\n",
              "    <tr>\n",
              "      <th>4</th>\n",
              "      <td>@RudhoeEnglish This is an ISIS account pretend...</td>\n",
              "      <td>0</td>\n",
              "      <td>rudhoeenglish isis account pretend kurdish acc...</td>\n",
              "      <td>[-0.3488288, -0.0730567, -0.9598056, 0.2925244...</td>\n",
              "    </tr>\n",
              "    <tr>\n",
              "      <th>5</th>\n",
              "      <td>@Raja5aab @Quickieleaks Yes, the test of god i...</td>\n",
              "      <td>0</td>\n",
              "      <td>raja5aab quickieleak yes test god good bad ind...</td>\n",
              "      <td>[0.7177841, -0.74800754, 0.033745833, -0.17426...</td>\n",
              "    </tr>\n",
              "  </tbody>\n",
              "</table>\n",
              "</div>\n",
              "      <button class=\"colab-df-convert\" onclick=\"convertToInteractive('df-655d1cdf-665c-4707-906b-992ea66c558f')\"\n",
              "              title=\"Convert this dataframe to an interactive table.\"\n",
              "              style=\"display:none;\">\n",
              "        \n",
              "  <svg xmlns=\"http://www.w3.org/2000/svg\" height=\"24px\"viewBox=\"0 0 24 24\"\n",
              "       width=\"24px\">\n",
              "    <path d=\"M0 0h24v24H0V0z\" fill=\"none\"/>\n",
              "    <path d=\"M18.56 5.44l.94 2.06.94-2.06 2.06-.94-2.06-.94-.94-2.06-.94 2.06-2.06.94zm-11 1L8.5 8.5l.94-2.06 2.06-.94-2.06-.94L8.5 2.5l-.94 2.06-2.06.94zm10 10l.94 2.06.94-2.06 2.06-.94-2.06-.94-.94-2.06-.94 2.06-2.06.94z\"/><path d=\"M17.41 7.96l-1.37-1.37c-.4-.4-.92-.59-1.43-.59-.52 0-1.04.2-1.43.59L10.3 9.45l-7.72 7.72c-.78.78-.78 2.05 0 2.83L4 21.41c.39.39.9.59 1.41.59.51 0 1.02-.2 1.41-.59l7.78-7.78 2.81-2.81c.8-.78.8-2.07 0-2.86zM5.41 20L4 18.59l7.72-7.72 1.47 1.35L5.41 20z\"/>\n",
              "  </svg>\n",
              "      </button>\n",
              "      \n",
              "  <style>\n",
              "    .colab-df-container {\n",
              "      display:flex;\n",
              "      flex-wrap:wrap;\n",
              "      gap: 12px;\n",
              "    }\n",
              "\n",
              "    .colab-df-convert {\n",
              "      background-color: #E8F0FE;\n",
              "      border: none;\n",
              "      border-radius: 50%;\n",
              "      cursor: pointer;\n",
              "      display: none;\n",
              "      fill: #1967D2;\n",
              "      height: 32px;\n",
              "      padding: 0 0 0 0;\n",
              "      width: 32px;\n",
              "    }\n",
              "\n",
              "    .colab-df-convert:hover {\n",
              "      background-color: #E2EBFA;\n",
              "      box-shadow: 0px 1px 2px rgba(60, 64, 67, 0.3), 0px 1px 3px 1px rgba(60, 64, 67, 0.15);\n",
              "      fill: #174EA6;\n",
              "    }\n",
              "\n",
              "    [theme=dark] .colab-df-convert {\n",
              "      background-color: #3B4455;\n",
              "      fill: #D2E3FC;\n",
              "    }\n",
              "\n",
              "    [theme=dark] .colab-df-convert:hover {\n",
              "      background-color: #434B5C;\n",
              "      box-shadow: 0px 1px 3px 1px rgba(0, 0, 0, 0.15);\n",
              "      filter: drop-shadow(0px 1px 2px rgba(0, 0, 0, 0.3));\n",
              "      fill: #FFFFFF;\n",
              "    }\n",
              "  </style>\n",
              "\n",
              "      <script>\n",
              "        const buttonEl =\n",
              "          document.querySelector('#df-655d1cdf-665c-4707-906b-992ea66c558f button.colab-df-convert');\n",
              "        buttonEl.style.display =\n",
              "          google.colab.kernel.accessAllowed ? 'block' : 'none';\n",
              "\n",
              "        async function convertToInteractive(key) {\n",
              "          const element = document.querySelector('#df-655d1cdf-665c-4707-906b-992ea66c558f');\n",
              "          const dataTable =\n",
              "            await google.colab.kernel.invokeFunction('convertToInteractive',\n",
              "                                                     [key], {});\n",
              "          if (!dataTable) return;\n",
              "\n",
              "          const docLinkHtml = 'Like what you see? Visit the ' +\n",
              "            '<a target=\"_blank\" href=https://colab.research.google.com/notebooks/data_table.ipynb>data table notebook</a>'\n",
              "            + ' to learn more about interactive tables.';\n",
              "          element.innerHTML = '';\n",
              "          dataTable['output_type'] = 'display_data';\n",
              "          await google.colab.output.renderOutput(dataTable, element);\n",
              "          const docLink = document.createElement('div');\n",
              "          docLink.innerHTML = docLinkHtml;\n",
              "          element.appendChild(docLink);\n",
              "        }\n",
              "      </script>\n",
              "    </div>\n",
              "  </div>\n",
              "  "
            ]
          },
          "metadata": {},
          "execution_count": 42
        }
      ]
    },
    {
      "cell_type": "code",
      "source": [
        "# We will convert the embeddings into traditional np array\n",
        "\n",
        "X_train,X_test,Y_train,Y_test=train_test_split(df.embeddings,df.cyberbullying_type,test_size=0.2,random_state=1000);\n",
        "X_train=np.stack(X_train);\n",
        "X_test=np.stack(X_test);\n"
      ],
      "metadata": {
        "id": "4a-UWEYLxI8P"
      },
      "execution_count": 43,
      "outputs": []
    },
    {
      "cell_type": "code",
      "source": [
        "# Since multinomial nb cannot deal with negative values i will use min max scaler to normalize the embeddings\n",
        "from sklearn.preprocessing import MinMaxScaler\n",
        "\n",
        "multinomial_nb_embedded=Pipeline([\n",
        "    ('scaler',MinMaxScaler()),\n",
        "    ('model',MultinomialNB())\n",
        "])\n",
        "\n",
        "multinomial_nb_embedded.fit(X_train,Y_train);\n",
        "y_pred_multinomial_nb=multinomial_nb_embedded.predict(X_test);"
      ],
      "metadata": {
        "id": "RThFXfMdxunq"
      },
      "execution_count": 44,
      "outputs": []
    },
    {
      "cell_type": "code",
      "source": [
        "# printing the classification report \n",
        "\n",
        "cr_multinomial_nb=classification_report(Y_test,y_pred_multinomial_nb);\n",
        "print(cr_multinomial_nb)"
      ],
      "metadata": {
        "colab": {
          "base_uri": "https://localhost:8080/"
        },
        "id": "gpYC88JOy0MG",
        "outputId": "8e3e6f87-9279-4057-8931-8812c18858d6"
      },
      "execution_count": 45,
      "outputs": [
        {
          "output_type": "stream",
          "name": "stdout",
          "text": [
            "              precision    recall  f1-score   support\n",
            "\n",
            "           0       0.42      0.46      0.44      1598\n",
            "           1       0.58      0.79      0.66      1632\n",
            "           2       0.82      0.85      0.84      1572\n",
            "           3       0.71      0.61      0.66      1584\n",
            "           4       0.66      0.66      0.66      1598\n",
            "           5       0.41      0.25      0.31      1555\n",
            "\n",
            "    accuracy                           0.61      9539\n",
            "   macro avg       0.60      0.60      0.60      9539\n",
            "weighted avg       0.60      0.61      0.60      9539\n",
            "\n"
          ]
        }
      ]
    },
    {
      "cell_type": "code",
      "source": [
        "svm_embedded=Pipeline([\n",
        "    ('model',SVC(kernel='linear',C=0.9))\n",
        "])\n",
        "\n",
        "svm_embedded.fit(X_train,Y_train);\n",
        "y_pred_svm_embedded=svm_embedded.predict(X_test);"
      ],
      "metadata": {
        "id": "RRoG4uFizEGJ"
      },
      "execution_count": 46,
      "outputs": []
    },
    {
      "cell_type": "code",
      "source": [
        "cr_svm_embedded=classification_report(Y_test,y_pred_svm_embedded);\n",
        "print(cr_svm_embedded);"
      ],
      "metadata": {
        "colab": {
          "base_uri": "https://localhost:8080/"
        },
        "id": "mWU7acr3zbBU",
        "outputId": "e0a5c38a-ba39-434d-cdc4-17d03980c85d"
      },
      "execution_count": 48,
      "outputs": [
        {
          "output_type": "stream",
          "name": "stdout",
          "text": [
            "              precision    recall  f1-score   support\n",
            "\n",
            "           0       0.52      0.48      0.50      1598\n",
            "           1       0.91      0.92      0.91      1632\n",
            "           2       0.94      0.93      0.93      1572\n",
            "           3       0.84      0.78      0.81      1584\n",
            "           4       0.92      0.92      0.92      1598\n",
            "           5       0.54      0.61      0.57      1555\n",
            "\n",
            "    accuracy                           0.78      9539\n",
            "   macro avg       0.78      0.77      0.78      9539\n",
            "weighted avg       0.78      0.78      0.78      9539\n",
            "\n"
          ]
        }
      ]
    },
    {
      "cell_type": "code",
      "source": [
        "# Plotting the confusion matrix of svm embedded model\n",
        "cm_svm_rbf=confusion_matrix(Y_test,y_pred_svm_embedded);\n",
        "sns.heatmap(cm_svm_rbf,annot=True, fmt='d');"
      ],
      "metadata": {
        "colab": {
          "base_uri": "https://localhost:8080/",
          "height": 265
        },
        "id": "Zn2nWGEuzkNx",
        "outputId": "123ff5c7-abc3-4698-9516-933c50f141b1"
      },
      "execution_count": 49,
      "outputs": [
        {
          "output_type": "display_data",
          "data": {
            "text/plain": [
              "<Figure size 432x288 with 2 Axes>"
            ],
            "image/png": "[encoded data removed]"
          },
          "metadata": {
            "needs_background": "light"
          }
        }
      ]
    },
    {
      "cell_type": "code",
      "source": [
        "# So far the results we got were not that good in the text part we will use fasttext and other deep learning methods to get a better accuracy"
      ],
      "metadata": {
        "id": "c9HYq_Oa34IH"
      },
      "execution_count": null,
      "outputs": []
    }
  ],
  "metadata": {
    "colab": {
      "collapsed_sections": [],
      "provenance": [],
      "authorship_tag": "ABX9TyMyUI4PCWaXV8fHnOU5JWQG",
      "include_colab_link": true
    },
    "kernelspec": {
      "display_name": "Python 3",
      "name": "python3"
    },
    "language_info": {
      "name": "python"
    },
    "accelerator": "GPU",
    "gpuClass": "standard"
  },
  "nbformat": 4,
  "nbformat_minor": 0
}